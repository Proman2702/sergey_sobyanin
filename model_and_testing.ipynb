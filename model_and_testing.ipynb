{
 "cells": [
  {
   "cell_type": "markdown",
   "id": "f46b964c",
   "metadata": {},
   "source": [
    "# Импорт библиотек"
   ]
  },
  {
   "cell_type": "code",
   "execution_count": 2,
   "id": "d9efb2ef",
   "metadata": {},
   "outputs": [],
   "source": [
    "import zipfile\n",
    "from PIL import Image\n",
    "import pandas as pd\n",
    "from ultralytics import RTDETR"
   ]
  },
  {
   "cell_type": "markdown",
   "id": "d59fe31e",
   "metadata": {},
   "source": [
    "# Инициализация и обучение модели"
   ]
  },
  {
   "cell_type": "code",
   "execution_count": null,
   "id": "ae28b57a",
   "metadata": {},
   "outputs": [
    {
     "name": "stdout",
     "output_type": "stream",
     "text": [
      "New https://pypi.org/project/ultralytics/8.3.204 available  Update with 'pip install -U ultralytics'\n",
      "Ultralytics 8.3.202  Python-3.10.18 torch-2.7.1+cu128 CUDA:0 (NVIDIA GeForce RTX 4060 Ti, 16379MiB)\n",
      "\u001b[34m\u001b[1mengine\\trainer: \u001b[0magnostic_nms=False, amp=True, augment=False, auto_augment=randaugment, batch=16, bgr=0.0, box=7.5, cache=False, cfg=None, classes=None, close_mosaic=10, cls=0.5, compile=False, conf=None, copy_paste=0.0, copy_paste_mode=flip, cos_lr=False, cutmix=0.0, data=dataset.yaml, degrees=0.0, deterministic=True, device=None, dfl=1.5, dnn=False, dropout=0.0, dynamic=False, embed=None, epochs=50, erasing=0.4, exist_ok=False, fliplr=0.5, flipud=0.0, format=torchscript, fraction=1.0, freeze=None, half=False, hsv_h=0.015, hsv_s=0.7, hsv_v=0.4, imgsz=600, int8=False, iou=0.7, keras=False, kobj=1.0, line_width=None, lr0=0.01, lrf=0.01, mask_ratio=4, max_det=300, mixup=0.0, mode=train, model=rtdetr-x.pt, momentum=0.937, mosaic=1.0, multi_scale=False, name=train15, nbs=64, nms=False, opset=None, optimize=False, optimizer=auto, overlap_mask=True, patience=100, perspective=0.0, plots=True, pose=12.0, pretrained=True, profile=False, project=None, rect=False, resume=False, retina_masks=False, save=True, save_conf=False, save_crop=False, save_dir=C:\\Users\\davyd\\Desktop\\MY PROJECTS AI\\HAHATONS\\LCT\\runs\\detect\\train15, save_frames=False, save_json=False, save_period=-1, save_txt=False, scale=0.5, seed=0, shear=0.0, show=False, show_boxes=True, show_conf=True, show_labels=True, simplify=True, single_cls=False, source=None, split=val, stream_buffer=False, task=detect, time=None, tracker=botsort.yaml, translate=0.1, val=True, verbose=True, vid_stride=1, visualize=False, warmup_bias_lr=0.1, warmup_epochs=3.0, warmup_momentum=0.8, weight_decay=0.0005, workers=8, workspace=None\n",
      "Overriding model.yaml nc=80 with nc=11\n",
      "WARNING no model scale passed. Assuming scale='x'.\n",
      "\n",
      "                   from  n    params  module                                       arguments                     \n",
      "  0                  -1  1     25792  ultralytics.nn.modules.block.HGStem          [3, 32, 64]                   \n",
      "  1                  -1  6    259200  ultralytics.nn.modules.block.HGBlock         [64, 64, 128, 3, 6]           \n",
      "  2                  -1  1      1408  ultralytics.nn.modules.conv.DWConv           [128, 128, 3, 2, 1, False]    \n",
      "  3                  -1  6   1248256  ultralytics.nn.modules.block.HGBlock         [128, 128, 512, 3, 6]         \n",
      "  4                  -1  6   1788928  ultralytics.nn.modules.block.HGBlock         [512, 128, 512, 3, 6, False, True]\n",
      "  5                  -1  1      5632  ultralytics.nn.modules.conv.DWConv           [512, 512, 3, 2, 1, False]    \n",
      "  6                  -1  6   2079232  ultralytics.nn.modules.block.HGBlock         [512, 256, 1024, 5, 6, True, False]\n",
      "  7                  -1  6   2472448  ultralytics.nn.modules.block.HGBlock         [1024, 256, 1024, 5, 6, True, True]\n",
      "  8                  -1  6   2472448  ultralytics.nn.modules.block.HGBlock         [1024, 256, 1024, 5, 6, True, True]\n",
      "  9                  -1  6   2472448  ultralytics.nn.modules.block.HGBlock         [1024, 256, 1024, 5, 6, True, True]\n",
      " 10                  -1  6   2472448  ultralytics.nn.modules.block.HGBlock         [1024, 256, 1024, 5, 6, True, True]\n",
      " 11                  -1  1     11264  ultralytics.nn.modules.conv.DWConv           [1024, 1024, 3, 2, 1, False]  \n",
      " 12                  -1  6   8221696  ultralytics.nn.modules.block.HGBlock         [1024, 512, 2048, 5, 6, True, False]\n",
      " 13                  -1  6   9794560  ultralytics.nn.modules.block.HGBlock         [2048, 512, 2048, 5, 6, True, True]\n",
      " 14                  -1  1    787200  ultralytics.nn.modules.conv.Conv             [2048, 384, 1, 1, None, 1, 1, False]\n",
      " 15                  -1  1   2168192  ultralytics.nn.modules.transformer.AIFI      [384, 2048, 8]                \n",
      " 16                  -1  1    148224  ultralytics.nn.modules.conv.Conv             [384, 384, 1, 1]              \n",
      " 17                  -1  1         0  torch.nn.modules.upsampling.Upsample         [None, 2, 'nearest']          \n",
      " 18                  10  1    393984  ultralytics.nn.modules.conv.Conv             [1024, 384, 1, 1, None, 1, 1, False]\n",
      " 19            [-2, -1]  1         0  ultralytics.nn.modules.conv.Concat           [1]                           \n",
      " 20                  -1  3   5019648  ultralytics.nn.modules.block.RepC3           [768, 384, 3]                 \n",
      " 21                  -1  1    148224  ultralytics.nn.modules.conv.Conv             [384, 384, 1, 1]              \n",
      " 22                  -1  1         0  torch.nn.modules.upsampling.Upsample         [None, 2, 'nearest']          \n",
      " 23                   4  1    197376  ultralytics.nn.modules.conv.Conv             [512, 384, 1, 1, None, 1, 1, False]\n",
      " 24            [-2, -1]  1         0  ultralytics.nn.modules.conv.Concat           [1]                           \n",
      " 25                  -1  3   5019648  ultralytics.nn.modules.block.RepC3           [768, 384, 3]                 \n",
      " 26                  -1  1   1327872  ultralytics.nn.modules.conv.Conv             [384, 384, 3, 2]              \n",
      " 27            [-1, 21]  1         0  ultralytics.nn.modules.conv.Concat           [1]                           \n",
      " 28                  -1  3   5019648  ultralytics.nn.modules.block.RepC3           [768, 384, 3]                 \n",
      " 29                  -1  1   1327872  ultralytics.nn.modules.conv.Conv             [384, 384, 3, 2]              \n",
      " 30            [-1, 16]  1         0  ultralytics.nn.modules.conv.Concat           [1]                           \n",
      " 31                  -1  3   5019648  ultralytics.nn.modules.block.RepC3           [768, 384, 3]                 \n",
      " 32        [25, 28, 31]  1   7422761  ultralytics.nn.modules.head.RTDETRDecoder    [11, [384, 384, 384]]         \n",
      "rt-detr-x summary: 575 layers, 67,326,057 parameters, 67,326,057 gradients, 232.4 GFLOPs\n",
      "\n",
      "Transferred 1226/1241 items from pretrained weights\n",
      "\u001b[34m\u001b[1mAMP: \u001b[0mrunning Automatic Mixed Precision (AMP) checks...\n",
      "\u001b[34m\u001b[1mAMP: \u001b[0mchecks passed \n",
      "WARNING imgsz=[600] must be multiple of max stride 32, updating to [608]\n",
      "\u001b[34m\u001b[1mtrain: \u001b[0mFast image access  (ping: 0.10.0 ms, read: 812.0891.7 MB/s, size: 6395.1 KB)\n",
      "\u001b[K\u001b[34m\u001b[1mtrain: \u001b[0mScanning C:\\Users\\davyd\\Desktop\\MY PROJECTS AI\\HAHATONS\\LCT\\dataset\\labels\\train.cache... 672 images, 3 backgrounds, 0 corrupt: 100% ━━━━━━━━━━━━ 675/675 677.0Kit/s 0.0s\n",
      "\u001b[34m\u001b[1mval: \u001b[0mFast image access  (ping: 0.10.0 ms, read: 291.6126.9 MB/s, size: 6462.5 KB)\n",
      "\u001b[K\u001b[34m\u001b[1mval: \u001b[0mScanning C:\\Users\\davyd\\Desktop\\MY PROJECTS AI\\HAHATONS\\LCT\\dataset\\labels\\val.cache... 22 images, 0 backgrounds, 0 corrupt: 100% ━━━━━━━━━━━━ 22/22  0.0s\n",
      "Plotting labels to C:\\Users\\davyd\\Desktop\\MY PROJECTS AI\\HAHATONS\\LCT\\runs\\detect\\train15\\labels.jpg... \n",
      "\u001b[34m\u001b[1moptimizer:\u001b[0m 'optimizer=auto' found, ignoring 'lr0=0.01' and 'momentum=0.937' and determining best 'optimizer', 'lr0' and 'momentum' automatically... \n",
      "\u001b[34m\u001b[1moptimizer:\u001b[0m AdamW(lr=0.000667, momentum=0.9) with parameter groups 193 weight(decay=0.0), 256 weight(decay=0.0005), 276 bias(decay=0.0)\n",
      "Image sizes 608 train, 608 val\n",
      "Using 6 dataloader workers\n",
      "Logging results to \u001b[1mC:\\Users\\davyd\\Desktop\\MY PROJECTS AI\\HAHATONS\\LCT\\runs\\detect\\train15\u001b[0m\n",
      "Starting training for 50 epochs...\n",
      "\n",
      "      Epoch    GPU_mem  giou_loss   cls_loss    l1_loss  Instances       Size\n"
     ]
    },
    {
     "name": "stderr",
     "output_type": "stream",
     "text": [
      "C:\\Users\\davyd\\AppData\\Roaming\\Python\\Python310\\site-packages\\torch\\autograd\\graph.py:824: UserWarning: grid_sampler_2d_backward_cuda does not have a deterministic implementation, but you set 'torch.use_deterministic_algorithms(True, warn_only=True)'. You can file an issue at https://github.com/pytorch/pytorch/issues to help us prioritize adding deterministic support for this operation. (Triggered internally at C:\\actions-runner\\_work\\pytorch\\pytorch\\pytorch\\aten\\src\\ATen\\Context.cpp:97.)\n",
      "  return Variable._execution_engine.run_backward(  # Calls into the C++ engine to run the backward pass\n"
     ]
    },
    {
     "name": "stdout",
     "output_type": "stream",
     "text": [
      "\u001b[K       1/50      14.8G     0.9706      8.439     0.8687         11        608: 100% ━━━━━━━━━━━━ 43/43 0.8it/s 56.8s1.0ss\n",
      "\u001b[K                 Class     Images  Instances      Box(P          R      mAP50  mAP50-95): 100% ━━━━━━━━━━━━ 1/1 2.0it/s 0.5s\n",
      "                   all         22        102    0.00277      0.129    0.00307    0.00169\n",
      "\n",
      "      Epoch    GPU_mem  giou_loss   cls_loss    l1_loss  Instances       Size\n"
     ]
    },
    {
     "name": "stderr",
     "output_type": "stream",
     "text": [
      "C:\\Users\\davyd\\AppData\\Roaming\\Python\\Python310\\site-packages\\torch\\autograd\\graph.py:824: UserWarning: grid_sampler_2d_backward_cuda does not have a deterministic implementation, but you set 'torch.use_deterministic_algorithms(True, warn_only=True)'. You can file an issue at https://github.com/pytorch/pytorch/issues to help us prioritize adding deterministic support for this operation. (Triggered internally at C:\\actions-runner\\_work\\pytorch\\pytorch\\pytorch\\aten\\src\\ATen\\Context.cpp:97.)\n",
      "  return Variable._execution_engine.run_backward(  # Calls into the C++ engine to run the backward pass\n"
     ]
    },
    {
     "name": "stdout",
     "output_type": "stream",
     "text": [
      "\u001b[K       2/50      15.5G     0.4011      1.778      0.256         12        608: 100% ━━━━━━━━━━━━ 43/43 0.9it/s 48.0s0.7ss\n",
      "\u001b[K                 Class     Images  Instances      Box(P          R      mAP50  mAP50-95): 100% ━━━━━━━━━━━━ 1/1 2.4it/s 0.4s\n",
      "                   all         22        102      0.332      0.118     0.0832     0.0728\n",
      "\n",
      "      Epoch    GPU_mem  giou_loss   cls_loss    l1_loss  Instances       Size\n"
     ]
    },
    {
     "name": "stderr",
     "output_type": "stream",
     "text": [
      "C:\\Users\\davyd\\AppData\\Roaming\\Python\\Python310\\site-packages\\torch\\autograd\\graph.py:824: UserWarning: grid_sampler_2d_backward_cuda does not have a deterministic implementation, but you set 'torch.use_deterministic_algorithms(True, warn_only=True)'. You can file an issue at https://github.com/pytorch/pytorch/issues to help us prioritize adding deterministic support for this operation. (Triggered internally at C:\\actions-runner\\_work\\pytorch\\pytorch\\pytorch\\aten\\src\\ATen\\Context.cpp:97.)\n",
      "  return Variable._execution_engine.run_backward(  # Calls into the C++ engine to run the backward pass\n"
     ]
    },
    {
     "name": "stdout",
     "output_type": "stream",
     "text": [
      "\u001b[K       3/50      15.6G     0.3407      1.208     0.2237         15        608: 100% ━━━━━━━━━━━━ 43/43 0.9it/s 49.4s0.7ss\n",
      "\u001b[K                 Class     Images  Instances      Box(P          R      mAP50  mAP50-95): 100% ━━━━━━━━━━━━ 1/1 0.5it/s 2.2s\n",
      "                   all         22        102      0.651      0.502      0.478      0.409\n",
      "\n",
      "      Epoch    GPU_mem  giou_loss   cls_loss    l1_loss  Instances       Size\n"
     ]
    },
    {
     "name": "stderr",
     "output_type": "stream",
     "text": [
      "C:\\Users\\davyd\\AppData\\Roaming\\Python\\Python310\\site-packages\\torch\\autograd\\graph.py:824: UserWarning: grid_sampler_2d_backward_cuda does not have a deterministic implementation, but you set 'torch.use_deterministic_algorithms(True, warn_only=True)'. You can file an issue at https://github.com/pytorch/pytorch/issues to help us prioritize adding deterministic support for this operation. (Triggered internally at C:\\actions-runner\\_work\\pytorch\\pytorch\\pytorch\\aten\\src\\ATen\\Context.cpp:97.)\n",
      "  return Variable._execution_engine.run_backward(  # Calls into the C++ engine to run the backward pass\n"
     ]
    },
    {
     "name": "stdout",
     "output_type": "stream",
     "text": [
      "\u001b[K       4/50      15.6G     0.3174     0.9279     0.2007         29        608: 100% ━━━━━━━━━━━━ 43/43 0.9it/s 46.9s0.6ss\n",
      "\u001b[K                 Class     Images  Instances      Box(P          R      mAP50  mAP50-95): 100% ━━━━━━━━━━━━ 1/1 2.4it/s 0.4s\n",
      "                   all         22        102      0.729      0.671      0.671       0.57\n",
      "\n",
      "      Epoch    GPU_mem  giou_loss   cls_loss    l1_loss  Instances       Size\n"
     ]
    },
    {
     "name": "stderr",
     "output_type": "stream",
     "text": [
      "C:\\Users\\davyd\\AppData\\Roaming\\Python\\Python310\\site-packages\\torch\\autograd\\graph.py:824: UserWarning: grid_sampler_2d_backward_cuda does not have a deterministic implementation, but you set 'torch.use_deterministic_algorithms(True, warn_only=True)'. You can file an issue at https://github.com/pytorch/pytorch/issues to help us prioritize adding deterministic support for this operation. (Triggered internally at C:\\actions-runner\\_work\\pytorch\\pytorch\\pytorch\\aten\\src\\ATen\\Context.cpp:97.)\n",
      "  return Variable._execution_engine.run_backward(  # Calls into the C++ engine to run the backward pass\n"
     ]
    },
    {
     "name": "stdout",
     "output_type": "stream",
     "text": [
      "\u001b[K       5/50      15.5G     0.3007     0.8114     0.1902          8        608: 100% ━━━━━━━━━━━━ 43/43 0.9it/s 47.5s0.7ss\n",
      "\u001b[K                 Class     Images  Instances      Box(P          R      mAP50  mAP50-95): 100% ━━━━━━━━━━━━ 1/1 2.4it/s 0.4s\n",
      "                   all         22        102      0.675       0.75      0.686        0.6\n",
      "\n",
      "      Epoch    GPU_mem  giou_loss   cls_loss    l1_loss  Instances       Size\n"
     ]
    },
    {
     "name": "stderr",
     "output_type": "stream",
     "text": [
      "C:\\Users\\davyd\\AppData\\Roaming\\Python\\Python310\\site-packages\\torch\\autograd\\graph.py:824: UserWarning: grid_sampler_2d_backward_cuda does not have a deterministic implementation, but you set 'torch.use_deterministic_algorithms(True, warn_only=True)'. You can file an issue at https://github.com/pytorch/pytorch/issues to help us prioritize adding deterministic support for this operation. (Triggered internally at C:\\actions-runner\\_work\\pytorch\\pytorch\\pytorch\\aten\\src\\ATen\\Context.cpp:97.)\n",
      "  return Variable._execution_engine.run_backward(  # Calls into the C++ engine to run the backward pass\n"
     ]
    },
    {
     "name": "stdout",
     "output_type": "stream",
     "text": [
      "\u001b[K       6/50      15.6G     0.2755     0.7245     0.1823          5        608: 100% ━━━━━━━━━━━━ 43/43 0.7it/s 1:040.9sss\n",
      "\u001b[K                 Class     Images  Instances      Box(P          R      mAP50  mAP50-95): 100% ━━━━━━━━━━━━ 1/1 2.4it/s 0.4s\n",
      "                   all         22        102        0.8      0.593      0.601      0.544\n",
      "\n",
      "      Epoch    GPU_mem  giou_loss   cls_loss    l1_loss  Instances       Size\n"
     ]
    },
    {
     "name": "stderr",
     "output_type": "stream",
     "text": [
      "C:\\Users\\davyd\\AppData\\Roaming\\Python\\Python310\\site-packages\\torch\\autograd\\graph.py:824: UserWarning: grid_sampler_2d_backward_cuda does not have a deterministic implementation, but you set 'torch.use_deterministic_algorithms(True, warn_only=True)'. You can file an issue at https://github.com/pytorch/pytorch/issues to help us prioritize adding deterministic support for this operation. (Triggered internally at C:\\actions-runner\\_work\\pytorch\\pytorch\\pytorch\\aten\\src\\ATen\\Context.cpp:97.)\n",
      "  return Variable._execution_engine.run_backward(  # Calls into the C++ engine to run the backward pass\n"
     ]
    },
    {
     "name": "stdout",
     "output_type": "stream",
     "text": [
      "\u001b[K       7/50      15.7G     0.2944     0.6978     0.1927          6        608: 100% ━━━━━━━━━━━━ 43/43 0.9it/s 48.2s0.6ss\n",
      "\u001b[K                 Class     Images  Instances      Box(P          R      mAP50  mAP50-95): 100% ━━━━━━━━━━━━ 1/1 2.4it/s 0.4s\n",
      "                   all         22        102       0.86      0.784      0.769      0.708\n",
      "\n",
      "      Epoch    GPU_mem  giou_loss   cls_loss    l1_loss  Instances       Size\n"
     ]
    },
    {
     "name": "stderr",
     "output_type": "stream",
     "text": [
      "C:\\Users\\davyd\\AppData\\Roaming\\Python\\Python310\\site-packages\\torch\\autograd\\graph.py:824: UserWarning: grid_sampler_2d_backward_cuda does not have a deterministic implementation, but you set 'torch.use_deterministic_algorithms(True, warn_only=True)'. You can file an issue at https://github.com/pytorch/pytorch/issues to help us prioritize adding deterministic support for this operation. (Triggered internally at C:\\actions-runner\\_work\\pytorch\\pytorch\\pytorch\\aten\\src\\ATen\\Context.cpp:97.)\n",
      "  return Variable._execution_engine.run_backward(  # Calls into the C++ engine to run the backward pass\n"
     ]
    },
    {
     "name": "stdout",
     "output_type": "stream",
     "text": [
      "\u001b[K       8/50      15.6G     0.2606     0.6256     0.1647         22        608: 100% ━━━━━━━━━━━━ 43/43 0.8it/s 53.3s0.7ss\n",
      "\u001b[K                 Class     Images  Instances      Box(P          R      mAP50  mAP50-95): 100% ━━━━━━━━━━━━ 1/1 2.5it/s 0.4s\n",
      "                   all         22        102      0.873      0.861      0.828      0.741\n",
      "\n",
      "      Epoch    GPU_mem  giou_loss   cls_loss    l1_loss  Instances       Size\n"
     ]
    },
    {
     "name": "stderr",
     "output_type": "stream",
     "text": [
      "C:\\Users\\davyd\\AppData\\Roaming\\Python\\Python310\\site-packages\\torch\\autograd\\graph.py:824: UserWarning: grid_sampler_2d_backward_cuda does not have a deterministic implementation, but you set 'torch.use_deterministic_algorithms(True, warn_only=True)'. You can file an issue at https://github.com/pytorch/pytorch/issues to help us prioritize adding deterministic support for this operation. (Triggered internally at C:\\actions-runner\\_work\\pytorch\\pytorch\\pytorch\\aten\\src\\ATen\\Context.cpp:97.)\n",
      "  return Variable._execution_engine.run_backward(  # Calls into the C++ engine to run the backward pass\n"
     ]
    },
    {
     "name": "stdout",
     "output_type": "stream",
     "text": [
      "\u001b[K       9/50      15.5G     0.2793     0.6272     0.1787          4        608: 100% ━━━━━━━━━━━━ 43/43 0.8it/s 53.8s0.7ss\n",
      "\u001b[K                 Class     Images  Instances      Box(P          R      mAP50  mAP50-95): 100% ━━━━━━━━━━━━ 1/1 2.4it/s 0.4s\n",
      "                   all         22        102      0.782      0.761      0.754      0.669\n",
      "\n",
      "      Epoch    GPU_mem  giou_loss   cls_loss    l1_loss  Instances       Size\n"
     ]
    },
    {
     "name": "stderr",
     "output_type": "stream",
     "text": [
      "C:\\Users\\davyd\\AppData\\Roaming\\Python\\Python310\\site-packages\\torch\\autograd\\graph.py:824: UserWarning: grid_sampler_2d_backward_cuda does not have a deterministic implementation, but you set 'torch.use_deterministic_algorithms(True, warn_only=True)'. You can file an issue at https://github.com/pytorch/pytorch/issues to help us prioritize adding deterministic support for this operation. (Triggered internally at C:\\actions-runner\\_work\\pytorch\\pytorch\\pytorch\\aten\\src\\ATen\\Context.cpp:97.)\n",
      "  return Variable._execution_engine.run_backward(  # Calls into the C++ engine to run the backward pass\n"
     ]
    },
    {
     "name": "stdout",
     "output_type": "stream",
     "text": [
      "\u001b[K      10/50      15.6G     0.2796      0.642     0.1813         28        608: 100% ━━━━━━━━━━━━ 43/43 0.6it/s 1:151.0sss\n",
      "\u001b[K                 Class     Images  Instances      Box(P          R      mAP50  mAP50-95): 100% ━━━━━━━━━━━━ 1/1 0.6it/s 1.6s\n",
      "                   all         22        102      0.911      0.886      0.861      0.801\n",
      "\n",
      "      Epoch    GPU_mem  giou_loss   cls_loss    l1_loss  Instances       Size\n",
      "\u001b[K      11/50      15.4G     0.3091     0.6228     0.1542         50        608: 0% ──────────── 0/43  1.8s"
     ]
    },
    {
     "name": "stderr",
     "output_type": "stream",
     "text": [
      "C:\\Users\\davyd\\AppData\\Roaming\\Python\\Python310\\site-packages\\torch\\autograd\\graph.py:824: UserWarning: grid_sampler_2d_backward_cuda does not have a deterministic implementation, but you set 'torch.use_deterministic_algorithms(True, warn_only=True)'. You can file an issue at https://github.com/pytorch/pytorch/issues to help us prioritize adding deterministic support for this operation. (Triggered internally at C:\\actions-runner\\_work\\pytorch\\pytorch\\pytorch\\aten\\src\\ATen\\Context.cpp:97.)\n",
      "  return Variable._execution_engine.run_backward(  # Calls into the C++ engine to run the backward pass\n"
     ]
    },
    {
     "name": "stdout",
     "output_type": "stream",
     "text": [
      "\u001b[K      11/50      15.6G     0.2579     0.5796     0.1577         24        608: 100% ━━━━━━━━━━━━ 43/43 0.9it/s 45.3s0.8ss\n",
      "\u001b[K                 Class     Images  Instances      Box(P          R      mAP50  mAP50-95): 100% ━━━━━━━━━━━━ 1/1 2.1it/s 0.5s\n",
      "                   all         22        102      0.916      0.836      0.846      0.794\n",
      "\n",
      "      Epoch    GPU_mem  giou_loss   cls_loss    l1_loss  Instances       Size\n"
     ]
    },
    {
     "name": "stderr",
     "output_type": "stream",
     "text": [
      "C:\\Users\\davyd\\AppData\\Roaming\\Python\\Python310\\site-packages\\torch\\autograd\\graph.py:824: UserWarning: grid_sampler_2d_backward_cuda does not have a deterministic implementation, but you set 'torch.use_deterministic_algorithms(True, warn_only=True)'. You can file an issue at https://github.com/pytorch/pytorch/issues to help us prioritize adding deterministic support for this operation. (Triggered internally at C:\\actions-runner\\_work\\pytorch\\pytorch\\pytorch\\aten\\src\\ATen\\Context.cpp:97.)\n",
      "  return Variable._execution_engine.run_backward(  # Calls into the C++ engine to run the backward pass\n"
     ]
    },
    {
     "name": "stdout",
     "output_type": "stream",
     "text": [
      "\u001b[K      12/50      15.6G     0.2464     0.5459     0.1551         31        608: 100% ━━━━━━━━━━━━ 43/43 0.9it/s 49.7s0.7ss\n",
      "\u001b[K                 Class     Images  Instances      Box(P          R      mAP50  mAP50-95): 100% ━━━━━━━━━━━━ 1/1 2.1it/s 0.5s\n",
      "                   all         22        102        0.9      0.909       0.88      0.813\n",
      "\n",
      "      Epoch    GPU_mem  giou_loss   cls_loss    l1_loss  Instances       Size\n"
     ]
    },
    {
     "name": "stderr",
     "output_type": "stream",
     "text": [
      "C:\\Users\\davyd\\AppData\\Roaming\\Python\\Python310\\site-packages\\torch\\autograd\\graph.py:824: UserWarning: grid_sampler_2d_backward_cuda does not have a deterministic implementation, but you set 'torch.use_deterministic_algorithms(True, warn_only=True)'. You can file an issue at https://github.com/pytorch/pytorch/issues to help us prioritize adding deterministic support for this operation. (Triggered internally at C:\\actions-runner\\_work\\pytorch\\pytorch\\pytorch\\aten\\src\\ATen\\Context.cpp:97.)\n",
      "  return Variable._execution_engine.run_backward(  # Calls into the C++ engine to run the backward pass\n"
     ]
    },
    {
     "name": "stdout",
     "output_type": "stream",
     "text": [
      "\u001b[K      13/50      15.5G      0.234     0.5022      0.154         23        608: 100% ━━━━━━━━━━━━ 43/43 0.9it/s 46.1s0.7ss\n",
      "\u001b[K                 Class     Images  Instances      Box(P          R      mAP50  mAP50-95): 100% ━━━━━━━━━━━━ 1/1 2.4it/s 0.4s\n",
      "                   all         22        102      0.902      0.931      0.909      0.854\n",
      "\n",
      "      Epoch    GPU_mem  giou_loss   cls_loss    l1_loss  Instances       Size\n"
     ]
    },
    {
     "name": "stderr",
     "output_type": "stream",
     "text": [
      "C:\\Users\\davyd\\AppData\\Roaming\\Python\\Python310\\site-packages\\torch\\autograd\\graph.py:824: UserWarning: grid_sampler_2d_backward_cuda does not have a deterministic implementation, but you set 'torch.use_deterministic_algorithms(True, warn_only=True)'. You can file an issue at https://github.com/pytorch/pytorch/issues to help us prioritize adding deterministic support for this operation. (Triggered internally at C:\\actions-runner\\_work\\pytorch\\pytorch\\pytorch\\aten\\src\\ATen\\Context.cpp:97.)\n",
      "  return Variable._execution_engine.run_backward(  # Calls into the C++ engine to run the backward pass\n"
     ]
    },
    {
     "name": "stdout",
     "output_type": "stream",
     "text": [
      "\u001b[K      14/50      15.6G     0.2427      0.515      0.151         24        608: 100% ━━━━━━━━━━━━ 43/43 0.9it/s 48.6s0.8ss\n",
      "\u001b[K                 Class     Images  Instances      Box(P          R      mAP50  mAP50-95): 100% ━━━━━━━━━━━━ 1/1 2.4it/s 0.4s\n",
      "                   all         22        102      0.874       0.92      0.896      0.833\n",
      "\n",
      "      Epoch    GPU_mem  giou_loss   cls_loss    l1_loss  Instances       Size\n"
     ]
    },
    {
     "name": "stderr",
     "output_type": "stream",
     "text": [
      "C:\\Users\\davyd\\AppData\\Roaming\\Python\\Python310\\site-packages\\torch\\autograd\\graph.py:824: UserWarning: grid_sampler_2d_backward_cuda does not have a deterministic implementation, but you set 'torch.use_deterministic_algorithms(True, warn_only=True)'. You can file an issue at https://github.com/pytorch/pytorch/issues to help us prioritize adding deterministic support for this operation. (Triggered internally at C:\\actions-runner\\_work\\pytorch\\pytorch\\pytorch\\aten\\src\\ATen\\Context.cpp:97.)\n",
      "  return Variable._execution_engine.run_backward(  # Calls into the C++ engine to run the backward pass\n"
     ]
    },
    {
     "name": "stdout",
     "output_type": "stream",
     "text": [
      "\u001b[K      15/50      15.4G      0.239     0.4736     0.1392         18        608: 100% ━━━━━━━━━━━━ 43/43 0.5it/s 1:230.9sss\n",
      "\u001b[K                 Class     Images  Instances      Box(P          R      mAP50  mAP50-95): 100% ━━━━━━━━━━━━ 1/1 2.5it/s 0.4s\n",
      "                   all         22        102      0.879      0.905      0.897      0.839\n",
      "\n",
      "      Epoch    GPU_mem  giou_loss   cls_loss    l1_loss  Instances       Size\n"
     ]
    },
    {
     "name": "stderr",
     "output_type": "stream",
     "text": [
      "C:\\Users\\davyd\\AppData\\Roaming\\Python\\Python310\\site-packages\\torch\\autograd\\graph.py:824: UserWarning: grid_sampler_2d_backward_cuda does not have a deterministic implementation, but you set 'torch.use_deterministic_algorithms(True, warn_only=True)'. You can file an issue at https://github.com/pytorch/pytorch/issues to help us prioritize adding deterministic support for this operation. (Triggered internally at C:\\actions-runner\\_work\\pytorch\\pytorch\\pytorch\\aten\\src\\ATen\\Context.cpp:97.)\n",
      "  return Variable._execution_engine.run_backward(  # Calls into the C++ engine to run the backward pass\n"
     ]
    },
    {
     "name": "stdout",
     "output_type": "stream",
     "text": [
      "\u001b[K      16/50      15.6G     0.2249      0.433     0.1423         19        608: 100% ━━━━━━━━━━━━ 43/43 0.9it/s 47.0s0.7ss\n",
      "\u001b[K                 Class     Images  Instances      Box(P          R      mAP50  mAP50-95): 100% ━━━━━━━━━━━━ 1/1 0.5it/s 2.2s\n",
      "                   all         22        102       0.91      0.932      0.909      0.856\n",
      "\n",
      "      Epoch    GPU_mem  giou_loss   cls_loss    l1_loss  Instances       Size\n"
     ]
    },
    {
     "name": "stderr",
     "output_type": "stream",
     "text": [
      "C:\\Users\\davyd\\AppData\\Roaming\\Python\\Python310\\site-packages\\torch\\autograd\\graph.py:824: UserWarning: grid_sampler_2d_backward_cuda does not have a deterministic implementation, but you set 'torch.use_deterministic_algorithms(True, warn_only=True)'. You can file an issue at https://github.com/pytorch/pytorch/issues to help us prioritize adding deterministic support for this operation. (Triggered internally at C:\\actions-runner\\_work\\pytorch\\pytorch\\pytorch\\aten\\src\\ATen\\Context.cpp:97.)\n",
      "  return Variable._execution_engine.run_backward(  # Calls into the C++ engine to run the backward pass\n"
     ]
    },
    {
     "name": "stdout",
     "output_type": "stream",
     "text": [
      "\u001b[K      17/50      15.5G     0.2319     0.4483     0.1528          4        608: 100% ━━━━━━━━━━━━ 43/43 0.9it/s 47.5s0.6ss\n",
      "\u001b[K                 Class     Images  Instances      Box(P          R      mAP50  mAP50-95): 100% ━━━━━━━━━━━━ 1/1 2.4it/s 0.4s\n",
      "                   all         22        102      0.948      0.977      0.972        0.9\n",
      "\n",
      "      Epoch    GPU_mem  giou_loss   cls_loss    l1_loss  Instances       Size\n"
     ]
    },
    {
     "name": "stderr",
     "output_type": "stream",
     "text": [
      "C:\\Users\\davyd\\AppData\\Roaming\\Python\\Python310\\site-packages\\torch\\autograd\\graph.py:824: UserWarning: grid_sampler_2d_backward_cuda does not have a deterministic implementation, but you set 'torch.use_deterministic_algorithms(True, warn_only=True)'. You can file an issue at https://github.com/pytorch/pytorch/issues to help us prioritize adding deterministic support for this operation. (Triggered internally at C:\\actions-runner\\_work\\pytorch\\pytorch\\pytorch\\aten\\src\\ATen\\Context.cpp:97.)\n",
      "  return Variable._execution_engine.run_backward(  # Calls into the C++ engine to run the backward pass\n"
     ]
    },
    {
     "name": "stdout",
     "output_type": "stream",
     "text": [
      "\u001b[K      18/50      15.6G     0.2401     0.4636     0.1591         13        608: 100% ━━━━━━━━━━━━ 43/43 0.9it/s 49.9s0.8ss\n",
      "\u001b[K                 Class     Images  Instances      Box(P          R      mAP50  mAP50-95): 100% ━━━━━━━━━━━━ 1/1 2.3it/s 0.4s\n",
      "                   all         22        102      0.971      0.955       0.96      0.897\n",
      "\n",
      "      Epoch    GPU_mem  giou_loss   cls_loss    l1_loss  Instances       Size\n",
      "\u001b[K      19/50      15.4G     0.2258     0.4722     0.1238         95        608: 0% ──────────── 0/43  2.1s"
     ]
    },
    {
     "name": "stderr",
     "output_type": "stream",
     "text": [
      "C:\\Users\\davyd\\AppData\\Roaming\\Python\\Python310\\site-packages\\torch\\autograd\\graph.py:824: UserWarning: grid_sampler_2d_backward_cuda does not have a deterministic implementation, but you set 'torch.use_deterministic_algorithms(True, warn_only=True)'. You can file an issue at https://github.com/pytorch/pytorch/issues to help us prioritize adding deterministic support for this operation. (Triggered internally at C:\\actions-runner\\_work\\pytorch\\pytorch\\pytorch\\aten\\src\\ATen\\Context.cpp:97.)\n",
      "  return Variable._execution_engine.run_backward(  # Calls into the C++ engine to run the backward pass\n"
     ]
    },
    {
     "name": "stdout",
     "output_type": "stream",
     "text": [
      "\u001b[K      19/50      15.5G     0.2244     0.4265     0.1436          6        608: 100% ━━━━━━━━━━━━ 43/43 0.9it/s 46.0s0.8ss\n",
      "\u001b[K                 Class     Images  Instances      Box(P          R      mAP50  mAP50-95): 100% ━━━━━━━━━━━━ 1/1 1.3it/s 0.8s\n",
      "                   all         22        102      0.981      0.937      0.968      0.901\n",
      "\n",
      "      Epoch    GPU_mem  giou_loss   cls_loss    l1_loss  Instances       Size\n"
     ]
    },
    {
     "name": "stderr",
     "output_type": "stream",
     "text": [
      "C:\\Users\\davyd\\AppData\\Roaming\\Python\\Python310\\site-packages\\torch\\autograd\\graph.py:824: UserWarning: grid_sampler_2d_backward_cuda does not have a deterministic implementation, but you set 'torch.use_deterministic_algorithms(True, warn_only=True)'. You can file an issue at https://github.com/pytorch/pytorch/issues to help us prioritize adding deterministic support for this operation. (Triggered internally at C:\\actions-runner\\_work\\pytorch\\pytorch\\pytorch\\aten\\src\\ATen\\Context.cpp:97.)\n",
      "  return Variable._execution_engine.run_backward(  # Calls into the C++ engine to run the backward pass\n"
     ]
    },
    {
     "name": "stdout",
     "output_type": "stream",
     "text": [
      "\u001b[K      20/50      15.6G     0.2363     0.4371     0.1466         19        608: 100% ━━━━━━━━━━━━ 43/43 0.9it/s 45.6s0.8ss\n",
      "\u001b[K                 Class     Images  Instances      Box(P          R      mAP50  mAP50-95): 100% ━━━━━━━━━━━━ 1/1 2.4it/s 0.4s\n",
      "                   all         22        102      0.964      0.977      0.983      0.917\n",
      "\n",
      "      Epoch    GPU_mem  giou_loss   cls_loss    l1_loss  Instances       Size\n"
     ]
    },
    {
     "name": "stderr",
     "output_type": "stream",
     "text": [
      "C:\\Users\\davyd\\AppData\\Roaming\\Python\\Python310\\site-packages\\torch\\autograd\\graph.py:824: UserWarning: grid_sampler_2d_backward_cuda does not have a deterministic implementation, but you set 'torch.use_deterministic_algorithms(True, warn_only=True)'. You can file an issue at https://github.com/pytorch/pytorch/issues to help us prioritize adding deterministic support for this operation. (Triggered internally at C:\\actions-runner\\_work\\pytorch\\pytorch\\pytorch\\aten\\src\\ATen\\Context.cpp:97.)\n",
      "  return Variable._execution_engine.run_backward(  # Calls into the C++ engine to run the backward pass\n"
     ]
    },
    {
     "name": "stdout",
     "output_type": "stream",
     "text": [
      "\u001b[K      21/50      15.5G     0.2276      0.401     0.1443         29        608: 100% ━━━━━━━━━━━━ 43/43 0.8it/s 51.3s0.7ss\n",
      "\u001b[K                 Class     Images  Instances      Box(P          R      mAP50  mAP50-95): 100% ━━━━━━━━━━━━ 1/1 2.4it/s 0.4s\n",
      "                   all         22        102      0.988      0.996      0.995      0.938\n",
      "\n",
      "      Epoch    GPU_mem  giou_loss   cls_loss    l1_loss  Instances       Size\n"
     ]
    },
    {
     "name": "stderr",
     "output_type": "stream",
     "text": [
      "C:\\Users\\davyd\\AppData\\Roaming\\Python\\Python310\\site-packages\\torch\\autograd\\graph.py:824: UserWarning: grid_sampler_2d_backward_cuda does not have a deterministic implementation, but you set 'torch.use_deterministic_algorithms(True, warn_only=True)'. You can file an issue at https://github.com/pytorch/pytorch/issues to help us prioritize adding deterministic support for this operation. (Triggered internally at C:\\actions-runner\\_work\\pytorch\\pytorch\\pytorch\\aten\\src\\ATen\\Context.cpp:97.)\n",
      "  return Variable._execution_engine.run_backward(  # Calls into the C++ engine to run the backward pass\n"
     ]
    },
    {
     "name": "stdout",
     "output_type": "stream",
     "text": [
      "\u001b[K      22/50      15.6G     0.2195     0.4004      0.139          7        608: 100% ━━━━━━━━━━━━ 43/43 0.9it/s 48.7s0.8ss\n",
      "\u001b[K                 Class     Images  Instances      Box(P          R      mAP50  mAP50-95): 100% ━━━━━━━━━━━━ 1/1 2.3it/s 0.4s\n",
      "                   all         22        102      0.973          1      0.992      0.939\n",
      "\n",
      "      Epoch    GPU_mem  giou_loss   cls_loss    l1_loss  Instances       Size\n",
      "\u001b[K      23/50      15.4G     0.2367     0.4364     0.1491         83        608: 0% ──────────── 0/43  1.9s"
     ]
    },
    {
     "name": "stderr",
     "output_type": "stream",
     "text": [
      "C:\\Users\\davyd\\AppData\\Roaming\\Python\\Python310\\site-packages\\torch\\autograd\\graph.py:824: UserWarning: grid_sampler_2d_backward_cuda does not have a deterministic implementation, but you set 'torch.use_deterministic_algorithms(True, warn_only=True)'. You can file an issue at https://github.com/pytorch/pytorch/issues to help us prioritize adding deterministic support for this operation. (Triggered internally at C:\\actions-runner\\_work\\pytorch\\pytorch\\pytorch\\aten\\src\\ATen\\Context.cpp:97.)\n",
      "  return Variable._execution_engine.run_backward(  # Calls into the C++ engine to run the backward pass\n"
     ]
    },
    {
     "name": "stdout",
     "output_type": "stream",
     "text": [
      "\u001b[K      23/50      15.6G     0.2324     0.4025     0.1478          6        608: 100% ━━━━━━━━━━━━ 43/43 0.7it/s 57.8s1.1ss\n",
      "\u001b[K                 Class     Images  Instances      Box(P          R      mAP50  mAP50-95): 100% ━━━━━━━━━━━━ 1/1 2.0it/s 0.5s\n",
      "                   all         22        102      0.981      0.994      0.995      0.941\n",
      "\n",
      "      Epoch    GPU_mem  giou_loss   cls_loss    l1_loss  Instances       Size\n"
     ]
    },
    {
     "name": "stderr",
     "output_type": "stream",
     "text": [
      "C:\\Users\\davyd\\AppData\\Roaming\\Python\\Python310\\site-packages\\torch\\autograd\\graph.py:824: UserWarning: grid_sampler_2d_backward_cuda does not have a deterministic implementation, but you set 'torch.use_deterministic_algorithms(True, warn_only=True)'. You can file an issue at https://github.com/pytorch/pytorch/issues to help us prioritize adding deterministic support for this operation. (Triggered internally at C:\\actions-runner\\_work\\pytorch\\pytorch\\pytorch\\aten\\src\\ATen\\Context.cpp:97.)\n",
      "  return Variable._execution_engine.run_backward(  # Calls into the C++ engine to run the backward pass\n"
     ]
    },
    {
     "name": "stdout",
     "output_type": "stream",
     "text": [
      "\u001b[K      24/50      15.6G     0.2236     0.3826     0.1459         16        608: 100% ━━━━━━━━━━━━ 43/43 0.9it/s 45.4s0.6ss\n",
      "\u001b[K                 Class     Images  Instances      Box(P          R      mAP50  mAP50-95): 100% ━━━━━━━━━━━━ 1/1 0.5it/s 2.1s\n",
      "                   all         22        102      0.984          1      0.995      0.933\n",
      "\n",
      "      Epoch    GPU_mem  giou_loss   cls_loss    l1_loss  Instances       Size\n"
     ]
    },
    {
     "name": "stderr",
     "output_type": "stream",
     "text": [
      "C:\\Users\\davyd\\AppData\\Roaming\\Python\\Python310\\site-packages\\torch\\autograd\\graph.py:824: UserWarning: grid_sampler_2d_backward_cuda does not have a deterministic implementation, but you set 'torch.use_deterministic_algorithms(True, warn_only=True)'. You can file an issue at https://github.com/pytorch/pytorch/issues to help us prioritize adding deterministic support for this operation. (Triggered internally at C:\\actions-runner\\_work\\pytorch\\pytorch\\pytorch\\aten\\src\\ATen\\Context.cpp:97.)\n",
      "  return Variable._execution_engine.run_backward(  # Calls into the C++ engine to run the backward pass\n"
     ]
    },
    {
     "name": "stdout",
     "output_type": "stream",
     "text": [
      "\u001b[K      25/50      15.5G     0.2088      0.398      0.139         17        608: 100% ━━━━━━━━━━━━ 43/43 0.8it/s 51.7s0.7ss\n",
      "\u001b[K                 Class     Images  Instances      Box(P          R      mAP50  mAP50-95): 100% ━━━━━━━━━━━━ 1/1 2.5it/s 0.4s\n",
      "                   all         22        102      0.975      0.995      0.993      0.932\n",
      "\n",
      "      Epoch    GPU_mem  giou_loss   cls_loss    l1_loss  Instances       Size\n"
     ]
    },
    {
     "name": "stderr",
     "output_type": "stream",
     "text": [
      "C:\\Users\\davyd\\AppData\\Roaming\\Python\\Python310\\site-packages\\torch\\autograd\\graph.py:824: UserWarning: grid_sampler_2d_backward_cuda does not have a deterministic implementation, but you set 'torch.use_deterministic_algorithms(True, warn_only=True)'. You can file an issue at https://github.com/pytorch/pytorch/issues to help us prioritize adding deterministic support for this operation. (Triggered internally at C:\\actions-runner\\_work\\pytorch\\pytorch\\pytorch\\aten\\src\\ATen\\Context.cpp:97.)\n",
      "  return Variable._execution_engine.run_backward(  # Calls into the C++ engine to run the backward pass\n"
     ]
    },
    {
     "name": "stdout",
     "output_type": "stream",
     "text": [
      "\u001b[K      26/50      15.6G     0.2246     0.3982     0.1489         25        608: 100% ━━━━━━━━━━━━ 43/43 0.9it/s 47.2s0.8ss\n",
      "\u001b[K                 Class     Images  Instances      Box(P          R      mAP50  mAP50-95): 100% ━━━━━━━━━━━━ 1/1 2.4it/s 0.4s\n",
      "                   all         22        102       0.97      0.992       0.98      0.926\n",
      "\n",
      "      Epoch    GPU_mem  giou_loss   cls_loss    l1_loss  Instances       Size\n",
      "\u001b[K      27/50      15.4G     0.2011     0.4847     0.1113         91        608: 0% ──────────── 0/43  1.2s"
     ]
    },
    {
     "name": "stderr",
     "output_type": "stream",
     "text": [
      "C:\\Users\\davyd\\AppData\\Roaming\\Python\\Python310\\site-packages\\torch\\autograd\\graph.py:824: UserWarning: grid_sampler_2d_backward_cuda does not have a deterministic implementation, but you set 'torch.use_deterministic_algorithms(True, warn_only=True)'. You can file an issue at https://github.com/pytorch/pytorch/issues to help us prioritize adding deterministic support for this operation. (Triggered internally at C:\\actions-runner\\_work\\pytorch\\pytorch\\pytorch\\aten\\src\\ATen\\Context.cpp:97.)\n",
      "  return Variable._execution_engine.run_backward(  # Calls into the C++ engine to run the backward pass\n"
     ]
    },
    {
     "name": "stdout",
     "output_type": "stream",
     "text": [
      "\u001b[K      27/50      15.6G     0.2077      0.376     0.1265          9        608: 100% ━━━━━━━━━━━━ 43/43 0.8it/s 53.0s0.9ss\n",
      "\u001b[K                 Class     Images  Instances      Box(P          R      mAP50  mAP50-95): 100% ━━━━━━━━━━━━ 1/1 2.2it/s 0.5s\n",
      "                   all         22        102      0.969          1      0.995      0.938\n",
      "\n",
      "      Epoch    GPU_mem  giou_loss   cls_loss    l1_loss  Instances       Size\n"
     ]
    },
    {
     "name": "stderr",
     "output_type": "stream",
     "text": [
      "C:\\Users\\davyd\\AppData\\Roaming\\Python\\Python310\\site-packages\\torch\\autograd\\graph.py:824: UserWarning: grid_sampler_2d_backward_cuda does not have a deterministic implementation, but you set 'torch.use_deterministic_algorithms(True, warn_only=True)'. You can file an issue at https://github.com/pytorch/pytorch/issues to help us prioritize adding deterministic support for this operation. (Triggered internally at C:\\actions-runner\\_work\\pytorch\\pytorch\\pytorch\\aten\\src\\ATen\\Context.cpp:97.)\n",
      "  return Variable._execution_engine.run_backward(  # Calls into the C++ engine to run the backward pass\n"
     ]
    },
    {
     "name": "stdout",
     "output_type": "stream",
     "text": [
      "\u001b[K      28/50      15.6G     0.2053     0.3621     0.1298          5        608: 100% ━━━━━━━━━━━━ 43/43 0.9it/s 46.7s0.7ss\n",
      "\u001b[K                 Class     Images  Instances      Box(P          R      mAP50  mAP50-95): 100% ━━━━━━━━━━━━ 1/1 0.6it/s 1.6s\n",
      "                   all         22        102      0.989          1      0.995      0.944\n",
      "\n",
      "      Epoch    GPU_mem  giou_loss   cls_loss    l1_loss  Instances       Size\n"
     ]
    },
    {
     "name": "stderr",
     "output_type": "stream",
     "text": [
      "C:\\Users\\davyd\\AppData\\Roaming\\Python\\Python310\\site-packages\\torch\\autograd\\graph.py:824: UserWarning: grid_sampler_2d_backward_cuda does not have a deterministic implementation, but you set 'torch.use_deterministic_algorithms(True, warn_only=True)'. You can file an issue at https://github.com/pytorch/pytorch/issues to help us prioritize adding deterministic support for this operation. (Triggered internally at C:\\actions-runner\\_work\\pytorch\\pytorch\\pytorch\\aten\\src\\ATen\\Context.cpp:97.)\n",
      "  return Variable._execution_engine.run_backward(  # Calls into the C++ engine to run the backward pass\n"
     ]
    },
    {
     "name": "stdout",
     "output_type": "stream",
     "text": [
      "\u001b[K      29/50      15.5G     0.2056     0.3579     0.1268         18        608: 100% ━━━━━━━━━━━━ 43/43 0.9it/s 45.6s0.6ss\n",
      "\u001b[K                 Class     Images  Instances      Box(P          R      mAP50  mAP50-95): 100% ━━━━━━━━━━━━ 1/1 2.5it/s 0.4s\n",
      "                   all         22        102       0.99          1      0.995      0.929\n",
      "\n",
      "      Epoch    GPU_mem  giou_loss   cls_loss    l1_loss  Instances       Size\n"
     ]
    },
    {
     "name": "stderr",
     "output_type": "stream",
     "text": [
      "C:\\Users\\davyd\\AppData\\Roaming\\Python\\Python310\\site-packages\\torch\\autograd\\graph.py:824: UserWarning: grid_sampler_2d_backward_cuda does not have a deterministic implementation, but you set 'torch.use_deterministic_algorithms(True, warn_only=True)'. You can file an issue at https://github.com/pytorch/pytorch/issues to help us prioritize adding deterministic support for this operation. (Triggered internally at C:\\actions-runner\\_work\\pytorch\\pytorch\\pytorch\\aten\\src\\ATen\\Context.cpp:97.)\n",
      "  return Variable._execution_engine.run_backward(  # Calls into the C++ engine to run the backward pass\n"
     ]
    },
    {
     "name": "stdout",
     "output_type": "stream",
     "text": [
      "\u001b[K      30/50      15.6G     0.2111     0.3772      0.141         17        608: 100% ━━━━━━━━━━━━ 43/43 0.9it/s 49.1s0.8ss\n",
      "\u001b[K                 Class     Images  Instances      Box(P          R      mAP50  mAP50-95): 100% ━━━━━━━━━━━━ 1/1 2.5it/s 0.4s\n",
      "                   all         22        102      0.985      0.993      0.995      0.942\n",
      "\n",
      "      Epoch    GPU_mem  giou_loss   cls_loss    l1_loss  Instances       Size\n"
     ]
    },
    {
     "name": "stderr",
     "output_type": "stream",
     "text": [
      "C:\\Users\\davyd\\AppData\\Roaming\\Python\\Python310\\site-packages\\torch\\autograd\\graph.py:824: UserWarning: grid_sampler_2d_backward_cuda does not have a deterministic implementation, but you set 'torch.use_deterministic_algorithms(True, warn_only=True)'. You can file an issue at https://github.com/pytorch/pytorch/issues to help us prioritize adding deterministic support for this operation. (Triggered internally at C:\\actions-runner\\_work\\pytorch\\pytorch\\pytorch\\aten\\src\\ATen\\Context.cpp:97.)\n",
      "  return Variable._execution_engine.run_backward(  # Calls into the C++ engine to run the backward pass\n"
     ]
    },
    {
     "name": "stdout",
     "output_type": "stream",
     "text": [
      "\u001b[K      31/50      15.4G     0.2046     0.3632     0.1297         18        608: 100% ━━━━━━━━━━━━ 43/43 0.8it/s 55.5s0.8ss\n",
      "\u001b[K                 Class     Images  Instances      Box(P          R      mAP50  mAP50-95): 100% ━━━━━━━━━━━━ 1/1 1.1it/s 0.9s\n",
      "                   all         22        102      0.985          1      0.995      0.935\n",
      "\n",
      "      Epoch    GPU_mem  giou_loss   cls_loss    l1_loss  Instances       Size\n"
     ]
    },
    {
     "name": "stderr",
     "output_type": "stream",
     "text": [
      "C:\\Users\\davyd\\AppData\\Roaming\\Python\\Python310\\site-packages\\torch\\autograd\\graph.py:824: UserWarning: grid_sampler_2d_backward_cuda does not have a deterministic implementation, but you set 'torch.use_deterministic_algorithms(True, warn_only=True)'. You can file an issue at https://github.com/pytorch/pytorch/issues to help us prioritize adding deterministic support for this operation. (Triggered internally at C:\\actions-runner\\_work\\pytorch\\pytorch\\pytorch\\aten\\src\\ATen\\Context.cpp:97.)\n",
      "  return Variable._execution_engine.run_backward(  # Calls into the C++ engine to run the backward pass\n"
     ]
    },
    {
     "name": "stdout",
     "output_type": "stream",
     "text": [
      "\u001b[K      32/50      15.6G     0.2014     0.3528     0.1254         28        608: 100% ━━━━━━━━━━━━ 43/43 0.8it/s 54.1s0.8ss\n",
      "\u001b[K                 Class     Images  Instances      Box(P          R      mAP50  mAP50-95): 100% ━━━━━━━━━━━━ 1/1 0.7it/s 1.5s\n",
      "                   all         22        102      0.988          1      0.995      0.946\n",
      "\n",
      "      Epoch    GPU_mem  giou_loss   cls_loss    l1_loss  Instances       Size\n"
     ]
    },
    {
     "name": "stderr",
     "output_type": "stream",
     "text": [
      "C:\\Users\\davyd\\AppData\\Roaming\\Python\\Python310\\site-packages\\torch\\autograd\\graph.py:824: UserWarning: grid_sampler_2d_backward_cuda does not have a deterministic implementation, but you set 'torch.use_deterministic_algorithms(True, warn_only=True)'. You can file an issue at https://github.com/pytorch/pytorch/issues to help us prioritize adding deterministic support for this operation. (Triggered internally at C:\\actions-runner\\_work\\pytorch\\pytorch\\pytorch\\aten\\src\\ATen\\Context.cpp:97.)\n",
      "  return Variable._execution_engine.run_backward(  # Calls into the C++ engine to run the backward pass\n"
     ]
    },
    {
     "name": "stdout",
     "output_type": "stream",
     "text": [
      "\u001b[K      33/50      15.5G     0.2007     0.3525       0.13         17        608: 100% ━━━━━━━━━━━━ 43/43 0.8it/s 53.8s0.7ss\n",
      "\u001b[K                 Class     Images  Instances      Box(P          R      mAP50  mAP50-95): 100% ━━━━━━━━━━━━ 1/1 2.4it/s 0.4s\n",
      "                   all         22        102       0.99          1      0.995      0.939\n",
      "\n",
      "      Epoch    GPU_mem  giou_loss   cls_loss    l1_loss  Instances       Size\n"
     ]
    },
    {
     "name": "stderr",
     "output_type": "stream",
     "text": [
      "C:\\Users\\davyd\\AppData\\Roaming\\Python\\Python310\\site-packages\\torch\\autograd\\graph.py:824: UserWarning: grid_sampler_2d_backward_cuda does not have a deterministic implementation, but you set 'torch.use_deterministic_algorithms(True, warn_only=True)'. You can file an issue at https://github.com/pytorch/pytorch/issues to help us prioritize adding deterministic support for this operation. (Triggered internally at C:\\actions-runner\\_work\\pytorch\\pytorch\\pytorch\\aten\\src\\ATen\\Context.cpp:97.)\n",
      "  return Variable._execution_engine.run_backward(  # Calls into the C++ engine to run the backward pass\n"
     ]
    },
    {
     "name": "stdout",
     "output_type": "stream",
     "text": [
      "\u001b[K      34/50      15.6G      0.192     0.3192     0.1224         12        608: 100% ━━━━━━━━━━━━ 43/43 0.8it/s 56.6s1.0ss\n",
      "\u001b[K                 Class     Images  Instances      Box(P          R      mAP50  mAP50-95): 100% ━━━━━━━━━━━━ 1/1 2.0it/s 0.5s\n",
      "                   all         22        102      0.988      0.999      0.995      0.938\n",
      "\n",
      "      Epoch    GPU_mem  giou_loss   cls_loss    l1_loss  Instances       Size\n",
      "\u001b[K      35/50      15.5G     0.2175     0.3351     0.1587         74        608: 0% ──────────── 0/43  1.4s"
     ]
    },
    {
     "name": "stderr",
     "output_type": "stream",
     "text": [
      "C:\\Users\\davyd\\AppData\\Roaming\\Python\\Python310\\site-packages\\torch\\autograd\\graph.py:824: UserWarning: grid_sampler_2d_backward_cuda does not have a deterministic implementation, but you set 'torch.use_deterministic_algorithms(True, warn_only=True)'. You can file an issue at https://github.com/pytorch/pytorch/issues to help us prioritize adding deterministic support for this operation. (Triggered internally at C:\\actions-runner\\_work\\pytorch\\pytorch\\pytorch\\aten\\src\\ATen\\Context.cpp:97.)\n",
      "  return Variable._execution_engine.run_backward(  # Calls into the C++ engine to run the backward pass\n"
     ]
    },
    {
     "name": "stdout",
     "output_type": "stream",
     "text": [
      "\u001b[K      35/50      15.7G     0.2002     0.3382     0.1326         25        608: 100% ━━━━━━━━━━━━ 43/43 0.9it/s 46.4s0.7ss\n",
      "\u001b[K                 Class     Images  Instances      Box(P          R      mAP50  mAP50-95): 100% ━━━━━━━━━━━━ 1/1 2.4it/s 0.4s\n",
      "                   all         22        102      0.985          1      0.995      0.943\n",
      "\n",
      "      Epoch    GPU_mem  giou_loss   cls_loss    l1_loss  Instances       Size\n"
     ]
    },
    {
     "name": "stderr",
     "output_type": "stream",
     "text": [
      "C:\\Users\\davyd\\AppData\\Roaming\\Python\\Python310\\site-packages\\torch\\autograd\\graph.py:824: UserWarning: grid_sampler_2d_backward_cuda does not have a deterministic implementation, but you set 'torch.use_deterministic_algorithms(True, warn_only=True)'. You can file an issue at https://github.com/pytorch/pytorch/issues to help us prioritize adding deterministic support for this operation. (Triggered internally at C:\\actions-runner\\_work\\pytorch\\pytorch\\pytorch\\aten\\src\\ATen\\Context.cpp:97.)\n",
      "  return Variable._execution_engine.run_backward(  # Calls into the C++ engine to run the backward pass\n"
     ]
    },
    {
     "name": "stdout",
     "output_type": "stream",
     "text": [
      "\u001b[K      36/50      15.6G     0.1987     0.3378     0.1258         24        608: 100% ━━━━━━━━━━━━ 43/43 0.9it/s 46.0s0.6ss\n",
      "\u001b[K                 Class     Images  Instances      Box(P          R      mAP50  mAP50-95): 100% ━━━━━━━━━━━━ 1/1 0.5it/s 2.0s\n",
      "                   all         22        102      0.989          1      0.995      0.949\n",
      "\n",
      "      Epoch    GPU_mem  giou_loss   cls_loss    l1_loss  Instances       Size\n"
     ]
    },
    {
     "name": "stderr",
     "output_type": "stream",
     "text": [
      "C:\\Users\\davyd\\AppData\\Roaming\\Python\\Python310\\site-packages\\torch\\autograd\\graph.py:824: UserWarning: grid_sampler_2d_backward_cuda does not have a deterministic implementation, but you set 'torch.use_deterministic_algorithms(True, warn_only=True)'. You can file an issue at https://github.com/pytorch/pytorch/issues to help us prioritize adding deterministic support for this operation. (Triggered internally at C:\\actions-runner\\_work\\pytorch\\pytorch\\pytorch\\aten\\src\\ATen\\Context.cpp:97.)\n",
      "  return Variable._execution_engine.run_backward(  # Calls into the C++ engine to run the backward pass\n"
     ]
    },
    {
     "name": "stdout",
     "output_type": "stream",
     "text": [
      "\u001b[K      37/50      15.5G     0.2036     0.3595     0.1328          3        608: 100% ━━━━━━━━━━━━ 43/43 1.0it/s 44.8s0.6ss\n",
      "\u001b[K                 Class     Images  Instances      Box(P          R      mAP50  mAP50-95): 100% ━━━━━━━━━━━━ 1/1 2.3it/s 0.4s\n",
      "                   all         22        102      0.988      0.994      0.995      0.948\n",
      "\n",
      "      Epoch    GPU_mem  giou_loss   cls_loss    l1_loss  Instances       Size\n"
     ]
    },
    {
     "name": "stderr",
     "output_type": "stream",
     "text": [
      "C:\\Users\\davyd\\AppData\\Roaming\\Python\\Python310\\site-packages\\torch\\autograd\\graph.py:824: UserWarning: grid_sampler_2d_backward_cuda does not have a deterministic implementation, but you set 'torch.use_deterministic_algorithms(True, warn_only=True)'. You can file an issue at https://github.com/pytorch/pytorch/issues to help us prioritize adding deterministic support for this operation. (Triggered internally at C:\\actions-runner\\_work\\pytorch\\pytorch\\pytorch\\aten\\src\\ATen\\Context.cpp:97.)\n",
      "  return Variable._execution_engine.run_backward(  # Calls into the C++ engine to run the backward pass\n"
     ]
    },
    {
     "name": "stdout",
     "output_type": "stream",
     "text": [
      "\u001b[K      38/50      15.6G     0.1902     0.3303     0.1189         15        608: 100% ━━━━━━━━━━━━ 43/43 0.8it/s 52.1s0.8ss\n",
      "\u001b[K                 Class     Images  Instances      Box(P          R      mAP50  mAP50-95): 100% ━━━━━━━━━━━━ 1/1 2.4it/s 0.4s\n",
      "                   all         22        102       0.98      0.993      0.994      0.946\n",
      "\n",
      "      Epoch    GPU_mem  giou_loss   cls_loss    l1_loss  Instances       Size\n",
      "\u001b[K      39/50      15.4G     0.1992     0.3785     0.1407         66        608: 0% ──────────── 0/43  1.2s"
     ]
    },
    {
     "name": "stderr",
     "output_type": "stream",
     "text": [
      "C:\\Users\\davyd\\AppData\\Roaming\\Python\\Python310\\site-packages\\torch\\autograd\\graph.py:824: UserWarning: grid_sampler_2d_backward_cuda does not have a deterministic implementation, but you set 'torch.use_deterministic_algorithms(True, warn_only=True)'. You can file an issue at https://github.com/pytorch/pytorch/issues to help us prioritize adding deterministic support for this operation. (Triggered internally at C:\\actions-runner\\_work\\pytorch\\pytorch\\pytorch\\aten\\src\\ATen\\Context.cpp:97.)\n",
      "  return Variable._execution_engine.run_backward(  # Calls into the C++ engine to run the backward pass\n"
     ]
    },
    {
     "name": "stdout",
     "output_type": "stream",
     "text": [
      "\u001b[K      39/50      15.5G     0.1929     0.3199     0.1245          8        608: 100% ━━━━━━━━━━━━ 43/43 1.0it/s 44.8s0.8ss\n",
      "\u001b[K                 Class     Images  Instances      Box(P          R      mAP50  mAP50-95): 100% ━━━━━━━━━━━━ 1/1 2.3it/s 0.4s\n",
      "                   all         22        102      0.987          1      0.995      0.944\n",
      "\n",
      "      Epoch    GPU_mem  giou_loss   cls_loss    l1_loss  Instances       Size\n"
     ]
    },
    {
     "name": "stderr",
     "output_type": "stream",
     "text": [
      "C:\\Users\\davyd\\AppData\\Roaming\\Python\\Python310\\site-packages\\torch\\autograd\\graph.py:824: UserWarning: grid_sampler_2d_backward_cuda does not have a deterministic implementation, but you set 'torch.use_deterministic_algorithms(True, warn_only=True)'. You can file an issue at https://github.com/pytorch/pytorch/issues to help us prioritize adding deterministic support for this operation. (Triggered internally at C:\\actions-runner\\_work\\pytorch\\pytorch\\pytorch\\aten\\src\\ATen\\Context.cpp:97.)\n",
      "  return Variable._execution_engine.run_backward(  # Calls into the C++ engine to run the backward pass\n"
     ]
    },
    {
     "name": "stdout",
     "output_type": "stream",
     "text": [
      "\u001b[K      40/50      15.6G     0.1853     0.3114     0.1151          5        608: 100% ━━━━━━━━━━━━ 43/43 0.9it/s 48.3s0.7ss\n",
      "\u001b[K                 Class     Images  Instances      Box(P          R      mAP50  mAP50-95): 100% ━━━━━━━━━━━━ 1/1 0.6it/s 1.6s\n",
      "                   all         22        102      0.991      0.998      0.995      0.944\n",
      "Closing dataloader mosaic\n",
      "\n",
      "      Epoch    GPU_mem  giou_loss   cls_loss    l1_loss  Instances       Size\n"
     ]
    },
    {
     "name": "stderr",
     "output_type": "stream",
     "text": [
      "C:\\Users\\davyd\\AppData\\Roaming\\Python\\Python310\\site-packages\\torch\\autograd\\graph.py:824: UserWarning: grid_sampler_2d_backward_cuda does not have a deterministic implementation, but you set 'torch.use_deterministic_algorithms(True, warn_only=True)'. You can file an issue at https://github.com/pytorch/pytorch/issues to help us prioritize adding deterministic support for this operation. (Triggered internally at C:\\actions-runner\\_work\\pytorch\\pytorch\\pytorch\\aten\\src\\ATen\\Context.cpp:97.)\n",
      "  return Variable._execution_engine.run_backward(  # Calls into the C++ engine to run the backward pass\n"
     ]
    },
    {
     "name": "stdout",
     "output_type": "stream",
     "text": [
      "\u001b[K      41/50      15.5G     0.1029     0.1966    0.07004          3        608: 100% ━━━━━━━━━━━━ 43/43 0.8it/s 52.7s0.6ss\n",
      "\u001b[K                 Class     Images  Instances      Box(P          R      mAP50  mAP50-95): 100% ━━━━━━━━━━━━ 1/1 2.4it/s 0.4s\n",
      "                   all         22        102      0.988          1      0.995      0.948\n",
      "\n",
      "      Epoch    GPU_mem  giou_loss   cls_loss    l1_loss  Instances       Size\n",
      "\u001b[K      42/50      15.6G    0.08046       0.16     0.0544         36        608: 0% ──────────── 0/43  1.5s"
     ]
    },
    {
     "name": "stderr",
     "output_type": "stream",
     "text": [
      "C:\\Users\\davyd\\AppData\\Roaming\\Python\\Python310\\site-packages\\torch\\autograd\\graph.py:824: UserWarning: grid_sampler_2d_backward_cuda does not have a deterministic implementation, but you set 'torch.use_deterministic_algorithms(True, warn_only=True)'. You can file an issue at https://github.com/pytorch/pytorch/issues to help us prioritize adding deterministic support for this operation. (Triggered internally at C:\\actions-runner\\_work\\pytorch\\pytorch\\pytorch\\aten\\src\\ATen\\Context.cpp:97.)\n",
      "  return Variable._execution_engine.run_backward(  # Calls into the C++ engine to run the backward pass\n"
     ]
    },
    {
     "name": "stdout",
     "output_type": "stream",
     "text": [
      "\u001b[K      42/50      15.6G     0.1024     0.1946    0.07212         23        608: 100% ━━━━━━━━━━━━ 43/43 0.4it/s 1:551.4ss\n",
      "\u001b[K                 Class     Images  Instances      Box(P          R      mAP50  mAP50-95): 100% ━━━━━━━━━━━━ 1/1 1.9it/s 0.5s\n",
      "                   all         22        102      0.989          1      0.995       0.95\n",
      "\n",
      "      Epoch    GPU_mem  giou_loss   cls_loss    l1_loss  Instances       Size\n",
      "\u001b[K      43/50      15.4G     0.1066     0.1823    0.06434         63        608: 0% ──────────── 0/43  2.0s"
     ]
    },
    {
     "name": "stderr",
     "output_type": "stream",
     "text": [
      "C:\\Users\\davyd\\AppData\\Roaming\\Python\\Python310\\site-packages\\torch\\autograd\\graph.py:824: UserWarning: grid_sampler_2d_backward_cuda does not have a deterministic implementation, but you set 'torch.use_deterministic_algorithms(True, warn_only=True)'. You can file an issue at https://github.com/pytorch/pytorch/issues to help us prioritize adding deterministic support for this operation. (Triggered internally at C:\\actions-runner\\_work\\pytorch\\pytorch\\pytorch\\aten\\src\\ATen\\Context.cpp:97.)\n",
      "  return Variable._execution_engine.run_backward(  # Calls into the C++ engine to run the backward pass\n"
     ]
    },
    {
     "name": "stdout",
     "output_type": "stream",
     "text": [
      "\u001b[K      43/50      15.5G     0.1032     0.1903    0.07242          9        608: 100% ━━━━━━━━━━━━ 43/43 0.9it/s 48.2s0.8ss\n",
      "\u001b[K                 Class     Images  Instances      Box(P          R      mAP50  mAP50-95): 100% ━━━━━━━━━━━━ 1/1 2.1it/s 0.5s\n",
      "                   all         22        102      0.991          1      0.995      0.942\n",
      "\n",
      "      Epoch    GPU_mem  giou_loss   cls_loss    l1_loss  Instances       Size\n"
     ]
    },
    {
     "name": "stderr",
     "output_type": "stream",
     "text": [
      "C:\\Users\\davyd\\AppData\\Roaming\\Python\\Python310\\site-packages\\torch\\autograd\\graph.py:824: UserWarning: grid_sampler_2d_backward_cuda does not have a deterministic implementation, but you set 'torch.use_deterministic_algorithms(True, warn_only=True)'. You can file an issue at https://github.com/pytorch/pytorch/issues to help us prioritize adding deterministic support for this operation. (Triggered internally at C:\\actions-runner\\_work\\pytorch\\pytorch\\pytorch\\aten\\src\\ATen\\Context.cpp:97.)\n",
      "  return Variable._execution_engine.run_backward(  # Calls into the C++ engine to run the backward pass\n"
     ]
    },
    {
     "name": "stdout",
     "output_type": "stream",
     "text": [
      "\u001b[K      44/50      15.6G     0.1044      0.198    0.07394          3        608: 100% ━━━━━━━━━━━━ 43/43 0.9it/s 49.4s0.7ss\n",
      "\u001b[K                 Class     Images  Instances      Box(P          R      mAP50  mAP50-95): 100% ━━━━━━━━━━━━ 1/1 2.4it/s 0.4s\n",
      "                   all         22        102       0.99      0.996      0.995       0.94\n",
      "\n",
      "      Epoch    GPU_mem  giou_loss   cls_loss    l1_loss  Instances       Size\n"
     ]
    },
    {
     "name": "stderr",
     "output_type": "stream",
     "text": [
      "C:\\Users\\davyd\\AppData\\Roaming\\Python\\Python310\\site-packages\\torch\\autograd\\graph.py:824: UserWarning: grid_sampler_2d_backward_cuda does not have a deterministic implementation, but you set 'torch.use_deterministic_algorithms(True, warn_only=True)'. You can file an issue at https://github.com/pytorch/pytorch/issues to help us prioritize adding deterministic support for this operation. (Triggered internally at C:\\actions-runner\\_work\\pytorch\\pytorch\\pytorch\\aten\\src\\ATen\\Context.cpp:97.)\n",
      "  return Variable._execution_engine.run_backward(  # Calls into the C++ engine to run the backward pass\n"
     ]
    },
    {
     "name": "stdout",
     "output_type": "stream",
     "text": [
      "\u001b[K      45/50      15.5G    0.09587     0.1824     0.0667         13        608: 100% ━━━━━━━━━━━━ 43/43 1.0it/s 45.2s0.6ss\n",
      "\u001b[K                 Class     Images  Instances      Box(P          R      mAP50  mAP50-95): 100% ━━━━━━━━━━━━ 1/1 2.5it/s 0.4s\n",
      "                   all         22        102      0.981      0.989      0.984      0.936\n",
      "\n",
      "      Epoch    GPU_mem  giou_loss   cls_loss    l1_loss  Instances       Size\n"
     ]
    },
    {
     "name": "stderr",
     "output_type": "stream",
     "text": [
      "C:\\Users\\davyd\\AppData\\Roaming\\Python\\Python310\\site-packages\\torch\\autograd\\graph.py:824: UserWarning: grid_sampler_2d_backward_cuda does not have a deterministic implementation, but you set 'torch.use_deterministic_algorithms(True, warn_only=True)'. You can file an issue at https://github.com/pytorch/pytorch/issues to help us prioritize adding deterministic support for this operation. (Triggered internally at C:\\actions-runner\\_work\\pytorch\\pytorch\\pytorch\\aten\\src\\ATen\\Context.cpp:97.)\n",
      "  return Variable._execution_engine.run_backward(  # Calls into the C++ engine to run the backward pass\n"
     ]
    },
    {
     "name": "stdout",
     "output_type": "stream",
     "text": [
      "\u001b[K      46/50      15.6G    0.09588     0.1799    0.06468          3        608: 100% ━━━━━━━━━━━━ 43/43 0.9it/s 45.4s0.8ss\n",
      "\u001b[K                 Class     Images  Instances      Box(P          R      mAP50  mAP50-95): 100% ━━━━━━━━━━━━ 1/1 2.5it/s 0.4s\n",
      "                   all         22        102      0.991      0.995      0.995      0.946\n",
      "\n",
      "      Epoch    GPU_mem  giou_loss   cls_loss    l1_loss  Instances       Size\n",
      "\u001b[K      47/50      15.4G    0.08386     0.1543    0.04341         56        608: 0% ──────────── 0/43  1.1s"
     ]
    },
    {
     "name": "stderr",
     "output_type": "stream",
     "text": [
      "C:\\Users\\davyd\\AppData\\Roaming\\Python\\Python310\\site-packages\\torch\\autograd\\graph.py:824: UserWarning: grid_sampler_2d_backward_cuda does not have a deterministic implementation, but you set 'torch.use_deterministic_algorithms(True, warn_only=True)'. You can file an issue at https://github.com/pytorch/pytorch/issues to help us prioritize adding deterministic support for this operation. (Triggered internally at C:\\actions-runner\\_work\\pytorch\\pytorch\\pytorch\\aten\\src\\ATen\\Context.cpp:97.)\n",
      "  return Variable._execution_engine.run_backward(  # Calls into the C++ engine to run the backward pass\n"
     ]
    },
    {
     "name": "stdout",
     "output_type": "stream",
     "text": [
      "\u001b[K      47/50      15.6G    0.09356     0.1793    0.06229          3        608: 100% ━━━━━━━━━━━━ 43/43 0.8it/s 56.2s1.0ss\n",
      "\u001b[K                 Class     Images  Instances      Box(P          R      mAP50  mAP50-95): 100% ━━━━━━━━━━━━ 1/1 2.2it/s 0.5s\n",
      "                   all         22        102      0.991          1      0.995      0.948\n",
      "\n",
      "      Epoch    GPU_mem  giou_loss   cls_loss    l1_loss  Instances       Size\n"
     ]
    },
    {
     "name": "stderr",
     "output_type": "stream",
     "text": [
      "C:\\Users\\davyd\\AppData\\Roaming\\Python\\Python310\\site-packages\\torch\\autograd\\graph.py:824: UserWarning: grid_sampler_2d_backward_cuda does not have a deterministic implementation, but you set 'torch.use_deterministic_algorithms(True, warn_only=True)'. You can file an issue at https://github.com/pytorch/pytorch/issues to help us prioritize adding deterministic support for this operation. (Triggered internally at C:\\actions-runner\\_work\\pytorch\\pytorch\\pytorch\\aten\\src\\ATen\\Context.cpp:97.)\n",
      "  return Variable._execution_engine.run_backward(  # Calls into the C++ engine to run the backward pass\n"
     ]
    },
    {
     "name": "stdout",
     "output_type": "stream",
     "text": [
      "\u001b[K      48/50      15.6G    0.09457     0.1809    0.06171         13        608: 100% ━━━━━━━━━━━━ 43/43 0.8it/s 52.5s0.7ss\n",
      "\u001b[K                 Class     Images  Instances      Box(P          R      mAP50  mAP50-95): 100% ━━━━━━━━━━━━ 1/1 0.7it/s 1.4s\n",
      "                   all         22        102      0.991          1      0.995      0.952\n",
      "\n",
      "      Epoch    GPU_mem  giou_loss   cls_loss    l1_loss  Instances       Size\n"
     ]
    },
    {
     "name": "stderr",
     "output_type": "stream",
     "text": [
      "C:\\Users\\davyd\\AppData\\Roaming\\Python\\Python310\\site-packages\\torch\\autograd\\graph.py:824: UserWarning: grid_sampler_2d_backward_cuda does not have a deterministic implementation, but you set 'torch.use_deterministic_algorithms(True, warn_only=True)'. You can file an issue at https://github.com/pytorch/pytorch/issues to help us prioritize adding deterministic support for this operation. (Triggered internally at C:\\actions-runner\\_work\\pytorch\\pytorch\\pytorch\\aten\\src\\ATen\\Context.cpp:97.)\n",
      "  return Variable._execution_engine.run_backward(  # Calls into the C++ engine to run the backward pass\n"
     ]
    },
    {
     "name": "stdout",
     "output_type": "stream",
     "text": [
      "\u001b[K      49/50      15.5G    0.09619     0.1833     0.0677         13        608: 100% ━━━━━━━━━━━━ 43/43 0.9it/s 45.8s0.6ss\n",
      "\u001b[K                 Class     Images  Instances      Box(P          R      mAP50  mAP50-95): 100% ━━━━━━━━━━━━ 1/1 2.4it/s 0.4s\n",
      "                   all         22        102      0.991          1      0.995       0.95\n",
      "\n",
      "      Epoch    GPU_mem  giou_loss   cls_loss    l1_loss  Instances       Size\n"
     ]
    },
    {
     "name": "stderr",
     "output_type": "stream",
     "text": [
      "C:\\Users\\davyd\\AppData\\Roaming\\Python\\Python310\\site-packages\\torch\\autograd\\graph.py:824: UserWarning: grid_sampler_2d_backward_cuda does not have a deterministic implementation, but you set 'torch.use_deterministic_algorithms(True, warn_only=True)'. You can file an issue at https://github.com/pytorch/pytorch/issues to help us prioritize adding deterministic support for this operation. (Triggered internally at C:\\actions-runner\\_work\\pytorch\\pytorch\\pytorch\\aten\\src\\ATen\\Context.cpp:97.)\n",
      "  return Variable._execution_engine.run_backward(  # Calls into the C++ engine to run the backward pass\n"
     ]
    },
    {
     "name": "stdout",
     "output_type": "stream",
     "text": [
      "\u001b[K      50/50      15.6G    0.09348     0.1791    0.06658          3        608: 100% ━━━━━━━━━━━━ 43/43 0.9it/s 46.1s0.8ss\n",
      "\u001b[K                 Class     Images  Instances      Box(P          R      mAP50  mAP50-95): 100% ━━━━━━━━━━━━ 1/1 2.4it/s 0.4s\n",
      "                   all         22        102      0.991          1      0.995      0.951\n",
      "\n",
      "50 epochs completed in 0.797 hours.\n",
      "Optimizer stripped from C:\\Users\\davyd\\Desktop\\MY PROJECTS AI\\HAHATONS\\LCT\\runs\\detect\\train15\\weights\\last.pt, 135.4MB\n",
      "Optimizer stripped from C:\\Users\\davyd\\Desktop\\MY PROJECTS AI\\HAHATONS\\LCT\\runs\\detect\\train15\\weights\\best.pt, 135.4MB\n",
      "\n",
      "Validating C:\\Users\\davyd\\Desktop\\MY PROJECTS AI\\HAHATONS\\LCT\\runs\\detect\\train15\\weights\\best.pt...\n",
      "Ultralytics 8.3.202  Python-3.10.18 torch-2.7.1+cu128 CUDA:0 (NVIDIA GeForce RTX 4060 Ti, 16379MiB)\n",
      "rt-detr-x summary: 370 layers, 65,490,041 parameters, 0 gradients, 222.5 GFLOPs\n",
      "\u001b[K                 Class     Images  Instances      Box(P          R      mAP50  mAP50-95): 100% ━━━━━━━━━━━━ 1/1 2.7it/s 0.4s\n",
      "                   all         22        102      0.991          1      0.995      0.952\n",
      "         screwdriver -         22         22      0.998          1      0.995       0.93\n",
      "         screwdriver +          8          8      0.989          1      0.995      0.924\n",
      "         screwdriver x          8          8      0.993          1      0.995      0.931\n",
      "             kolovorot          8          8      0.987          1      0.995      0.995\n",
      "      passatizi kontro          8          8      0.988          1      0.995      0.957\n",
      "             passatizi          8          8      0.995          1      0.995       0.98\n",
      "             shernitsa          8          8      0.987          1      0.995      0.995\n",
      "       razvodnoy kluch          8          8       0.99          1      0.995      0.945\n",
      "           otkruvashka          8          8      0.995          1      0.995      0.894\n",
      "          kluch rozkov          8          8      0.989          1      0.995      0.949\n",
      "              bokorezu          8          8      0.988          1      0.995      0.974\n",
      "Speed: 0.3ms preprocess, 12.6ms inference, 0.0ms loss, 0.6ms postprocess per image\n",
      "Results saved to \u001b[1mC:\\Users\\davyd\\Desktop\\MY PROJECTS AI\\HAHATONS\\LCT\\runs\\detect\\train15\u001b[0m\n"
     ]
    }
   ],
   "source": [
    "model = RTDETR(\"rtdetr-x.pt\")\n",
    "\n",
    "\n",
    "results = model.train(\n",
    "        data='dataset.yaml',\n",
    "        epochs=50,\n",
    "        imgsz=512,\n",
    "        batch=16,\n",
    "    )"
   ]
  },
  {
   "cell_type": "markdown",
   "id": "55af7617",
   "metadata": {},
   "source": [
    "# Инференс модели"
   ]
  },
  {
   "cell_type": "code",
   "execution_count": null,
   "id": "789cb84d",
   "metadata": {},
   "outputs": [
    {
     "name": "stdout",
     "output_type": "stream",
     "text": [
      "\n",
      "image 1/1 c:\\Users\\davyd\\Desktop\\MY PROJECTS AI\\HAHATONS\\LCT\\_ \\  \\DSCN5067.JPG: 512x512 1 screwdriver -, 1 screwdriver +, 1 screwdriver x, 1 kolovorot, 1 passatizi kontro, 1 passatizi, 1 shernitsa, 1 razvodnoy kluch, 1 otkruvashka, 1 kluch rozkov, 1 bokorezu, 276.6ms\n",
      "Speed: 3.6ms preprocess, 276.6ms inference, 1.1ms postprocess per image at shape (1, 3, 512, 512)\n"
     ]
    },
    {
     "data": {
      "text/plain": [
       "<Figure size 640x480 with 1 Axes>"
      ]
     },
     "metadata": {},
     "output_type": "display_data"
    },
    {
     "name": "stdout",
     "output_type": "stream",
     "text": [
      "ultralytics.engine.results.Results object with attributes:\n",
      "\n",
      "boxes: ultralytics.engine.results.Boxes object\n",
      "keypoints: None\n",
      "masks: None\n",
      "names: {0: 'screwdriver -', 1: 'screwdriver +', 2: 'screwdriver x', 3: 'kolovorot', 4: 'passatizi kontro', 5: 'passatizi', 6: 'shernitsa', 7: 'razvodnoy kluch', 8: 'otkruvashka', 9: 'kluch rozkov', 10: 'bokorezu'}\n",
      "obb: None\n",
      "orig_img: array([[[ 86,  80,  85],\n",
      "        [ 87,  81,  86],\n",
      "        [ 86,  80,  85],\n",
      "        ...,\n",
      "        [136, 137, 141],\n",
      "        [136, 137, 141],\n",
      "        [135, 136, 140]],\n",
      "\n",
      "       [[ 86,  80,  85],\n",
      "        [ 86,  80,  85],\n",
      "        [ 86,  80,  85],\n",
      "        ...,\n",
      "        [136, 137, 141],\n",
      "        [136, 137, 141],\n",
      "        [137, 138, 142]],\n",
      "\n",
      "       [[ 87,  81,  86],\n",
      "        [ 87,  81,  86],\n",
      "        [ 87,  81,  86],\n",
      "        ...,\n",
      "        [135, 136, 140],\n",
      "        [139, 140, 144],\n",
      "        [139, 140, 144]],\n",
      "\n",
      "       ...,\n",
      "\n",
      "       [[ 91, 103, 113],\n",
      "        [ 91, 103, 113],\n",
      "        [ 91, 103, 113],\n",
      "        ...,\n",
      "        [139, 134, 136],\n",
      "        [140, 135, 137],\n",
      "        [140, 135, 137]],\n",
      "\n",
      "       [[ 91, 103, 113],\n",
      "        [ 90, 102, 112],\n",
      "        [ 90, 102, 112],\n",
      "        ...,\n",
      "        [139, 134, 136],\n",
      "        [140, 135, 137],\n",
      "        [139, 134, 136]],\n",
      "\n",
      "       [[ 91, 103, 113],\n",
      "        [ 90, 102, 112],\n",
      "        [ 90, 102, 112],\n",
      "        ...,\n",
      "        [138, 133, 135],\n",
      "        [139, 134, 136],\n",
      "        [138, 133, 135]]], shape=(3864, 5152, 3), dtype=uint8)\n",
      "orig_shape: (3864, 5152)\n",
      "path: 'c:\\\\Users\\\\davyd\\\\Desktop\\\\MY PROJECTS AI\\\\HAHATONS\\\\LCT\\\\Датасет_Хакатон ЛЦТ\\\\Групповые для тренировки\\\\DSCN5067.JPG'\n",
      "probs: None\n",
      "save_dir: 'C:\\\\Users\\\\davyd\\\\Desktop\\\\MY PROJECTS AI\\\\HAHATONS\\\\LCT\\\\runs\\\\detect\\\\train392'\n",
      "speed: {'preprocess': 3.60319996252656, 'inference': 276.5554999932647, 'postprocess': 1.0600999812595546}\n",
      "Класс: kolovorot, Доверие: 0.98, Координаты: [388.3575134277344, 895.465087890625, 2793.062744140625, 2735.226806640625]\n",
      "Класс: passatizi kontro, Доверие: 0.97, Координаты: [1750.47705078125, 2180.232177734375, 3474.427001953125, 3269.58837890625]\n",
      "Класс: razvodnoy kluch, Доверие: 0.97, Координаты: [1250.6319580078125, 478.2236633300781, 1877.555419921875, 1782.6109619140625]\n",
      "Класс: bokorezu, Доверие: 0.97, Координаты: [1680.0689697265625, 450.2213134765625, 2448.995361328125, 1614.9849853515625]\n",
      "Класс: shernitsa, Доверие: 0.97, Координаты: [2395.4765625, 426.40771484375, 3653.047607421875, 2062.432861328125]\n",
      "Класс: screwdriver -, Доверие: 0.97, Координаты: [1978.5028076171875, 1710.3052978515625, 3609.908447265625, 2513.576171875]\n",
      "Класс: kluch rozkov, Доверие: 0.96, Координаты: [1006.01025390625, 614.6699829101562, 1655.54345703125, 2122.023681640625]\n",
      "Класс: passatizi, Доверие: 0.96, Координаты: [3368.960693359375, 2082.479736328125, 4729.015625, 2726.873291015625]\n",
      "Класс: screwdriver x, Доверие: 0.96, Координаты: [3242.157958984375, 372.4325256347656, 3805.870361328125, 1862.828857421875]\n",
      "Класс: otkruvashka, Доверие: 0.96, Координаты: [2980.907470703125, 1168.28515625, 3449.730224609375, 1907.6129150390625]\n",
      "Класс: screwdriver +, Доверие: 0.95, Координаты: [3758.460205078125, 460.4413146972656, 4216.83837890625, 1905.220947265625]\n"
     ]
    }
   ],
   "source": [
    "from ultralytics import RTDETR\n",
    "from PIL import Image\n",
    "import matplotlib.pyplot as plt\n",
    "\n",
    "results = model.predict(source='Датасет_Хакатон ЛЦТ/Групповые для тренировки/DSCN5067.JPG',\n",
    "        conf=0.7,        \n",
    "        iou=0.6,         \n",
    "        imgsz=512,       \n",
    "        device=0,         \n",
    "        show=False,     \n",
    "        augment=False,   \n",
    "        visualize=False, \n",
    ")\n",
    "result = results[0]\n",
    "\n",
    "\n",
    "img_with_boxes = result.plot()\n",
    "\n",
    "plt.imshow(img_with_boxes)\n",
    "plt.axis('off')\n",
    "plt.show()\n",
    "\n",
    "output_path = 'predicted_image.jpg'\n",
    "Image.fromarray(img_with_boxes).save(output_path)\n",
    "\n",
    "print(result)\n",
    "\n",
    "for box in result.boxes:\n",
    "    cls = int(box.cls[0])\n",
    "    conf = box.conf[0]\n",
    "    coords = box.xyxy[0]  \n",
    "    print(f\"Класс: {result.names[cls]}, Доверие: {conf:.2f}, Координаты: {coords.tolist()}\")\n"
   ]
  },
  {
   "cell_type": "markdown",
   "id": "aac8cbf9",
   "metadata": {},
   "source": [
    "# Код для предсказания картинок из zip папки"
   ]
  },
  {
   "cell_type": "code",
   "execution_count": null,
   "id": "d41879d2",
   "metadata": {},
   "outputs": [
    {
     "name": "stdout",
     "output_type": "stream",
     "text": [
      "\n",
      "0: 608x608 1 bokorezu, 39.8ms\n",
      "Speed: 18.4ms preprocess, 39.8ms inference, 2.4ms postprocess per image at shape (1, 3, 608, 608)\n",
      "\n",
      "0: 608x608 1 bokorezu, 42.7ms\n",
      "Speed: 4.4ms preprocess, 42.7ms inference, 0.9ms postprocess per image at shape (1, 3, 608, 608)\n",
      "\n",
      "0: 608x608 1 bokorezu, 42.8ms\n",
      "Speed: 4.1ms preprocess, 42.8ms inference, 0.9ms postprocess per image at shape (1, 3, 608, 608)\n",
      "\n",
      "0: 608x608 1 bokorezu, 43.7ms\n",
      "Speed: 3.7ms preprocess, 43.7ms inference, 0.9ms postprocess per image at shape (1, 3, 608, 608)\n",
      "\n",
      "0: 608x608 1 bokorezu, 52.3ms\n",
      "Speed: 4.3ms preprocess, 52.3ms inference, 0.9ms postprocess per image at shape (1, 3, 608, 608)\n",
      "\n",
      "0: 608x608 1 bokorezu, 39.3ms\n",
      "Speed: 3.8ms preprocess, 39.3ms inference, 0.9ms postprocess per image at shape (1, 3, 608, 608)\n",
      "\n",
      "0: 608x608 1 bokorezu, 39.3ms\n",
      "Speed: 3.5ms preprocess, 39.3ms inference, 0.9ms postprocess per image at shape (1, 3, 608, 608)\n",
      "\n",
      "0: 608x608 1 bokorezu, 40.5ms\n",
      "Speed: 3.9ms preprocess, 40.5ms inference, 0.9ms postprocess per image at shape (1, 3, 608, 608)\n",
      "\n",
      "0: 608x608 1 bokorezu, 55.3ms\n",
      "Speed: 3.8ms preprocess, 55.3ms inference, 0.9ms postprocess per image at shape (1, 3, 608, 608)\n",
      "\n",
      "0: 608x608 1 bokorezu, 57.1ms\n",
      "Speed: 3.5ms preprocess, 57.1ms inference, 0.9ms postprocess per image at shape (1, 3, 608, 608)\n",
      "\n",
      "0: 608x608 1 bokorezu, 56.4ms\n",
      "Speed: 4.2ms preprocess, 56.4ms inference, 1.1ms postprocess per image at shape (1, 3, 608, 608)\n",
      "\n",
      "0: 608x608 1 bokorezu, 56.5ms\n",
      "Speed: 3.6ms preprocess, 56.5ms inference, 1.0ms postprocess per image at shape (1, 3, 608, 608)\n",
      "\n",
      "0: 608x608 1 screwdriver -, 1 screwdriver +, 1 screwdriver x, 1 kolovorot, 1 passatizi kontro, 1 passatizi, 1 shernitsa, 1 razvodnoy kluch, 1 otkruvashka, 1 kluch rozkov, 1 bokorezu, 68.6ms\n",
      "Speed: 3.5ms preprocess, 68.6ms inference, 3.5ms postprocess per image at shape (1, 3, 608, 608)\n"
     ]
    }
   ],
   "source": [
    "zip_path = 'TESTIMG.zip'\n",
    "\n",
    "images = []\n",
    "with zipfile.ZipFile(zip_path, 'r') as archive:\n",
    "    for file_name in archive.namelist():\n",
    "        if file_name.lower().endswith(('.png', '.jpg', '.jpeg')):\n",
    "            try:\n",
    "                with archive.open(file_name) as file:\n",
    "                    img = Image.open(file).convert('RGB')\n",
    "                    images.append((file_name, img))\n",
    "            except Exception as e:\n",
    "                print(f'Cannot open {file_name}: {e}')\n",
    "\n",
    "model = RTDETR('runs/detect/train15/weights/last.pt')\n",
    "\n",
    "results_list = []\n",
    "\n",
    "for file_name, img in images:\n",
    "    preds = model.predict(\n",
    "        source=img,\n",
    "        conf=0.7,        \n",
    "        iou=0.6,         \n",
    "        imgsz=512,       \n",
    "        device=0,         \n",
    "        show=False,     \n",
    "        augment=False,   \n",
    "        visualize=False\n",
    "        )\n",
    "    pred = preds[0]\n",
    "    boxes = pred.boxes.xyxy.cpu().numpy()\n",
    "    scores = pred.boxes.conf.cpu().numpy()\n",
    "    classes = pred.boxes.cls.cpu().numpy()\n",
    "\n",
    "\n",
    "    class_str = ', '.join(map(str, classes.astype(int)))\n",
    "    scores_list = scores.tolist()\n",
    "\n",
    "    results_list.append({\n",
    "        'image': file_name,\n",
    "        'classes': class_str,          \n",
    "        'scores': scores_list          \n",
    "    })\n",
    "\n",
    "df = pd.DataFrame(results_list)\n",
    "df.to_csv(\"preds_serega_pirat_forpapka.csv\")\n",
    "#['screwdriver -','screwdriver +', 'screwdriver x', 'kolovorot','passatizi kontro','passatizi','shernitsa','razvodnoy kluch','otkruvashka','kluch rozkov','bokorezu'] Список классов по индексам"
   ]
  },
  {
   "cell_type": "code",
   "execution_count": 11,
   "id": "b05cdfae",
   "metadata": {},
   "outputs": [
    {
     "data": {
      "text/html": [
       "<div>\n",
       "<style scoped>\n",
       "    .dataframe tbody tr th:only-of-type {\n",
       "        vertical-align: middle;\n",
       "    }\n",
       "\n",
       "    .dataframe tbody tr th {\n",
       "        vertical-align: top;\n",
       "    }\n",
       "\n",
       "    .dataframe thead th {\n",
       "        text-align: right;\n",
       "    }\n",
       "</style>\n",
       "<table border=\"1\" class=\"dataframe\">\n",
       "  <thead>\n",
       "    <tr style=\"text-align: right;\">\n",
       "      <th></th>\n",
       "      <th>image</th>\n",
       "      <th>classes</th>\n",
       "      <th>scores</th>\n",
       "    </tr>\n",
       "  </thead>\n",
       "  <tbody>\n",
       "    <tr>\n",
       "      <th>0</th>\n",
       "      <td>TESTIMG/DSCN0846.JPG</td>\n",
       "      <td>10</td>\n",
       "      <td>[0.9207518100738525]</td>\n",
       "    </tr>\n",
       "    <tr>\n",
       "      <th>1</th>\n",
       "      <td>TESTIMG/DSCN0847.JPG</td>\n",
       "      <td>10</td>\n",
       "      <td>[0.928490400314331]</td>\n",
       "    </tr>\n",
       "    <tr>\n",
       "      <th>2</th>\n",
       "      <td>TESTIMG/DSCN0848.JPG</td>\n",
       "      <td>10</td>\n",
       "      <td>[0.9269101023674011]</td>\n",
       "    </tr>\n",
       "    <tr>\n",
       "      <th>3</th>\n",
       "      <td>TESTIMG/DSCN0849.JPG</td>\n",
       "      <td>10</td>\n",
       "      <td>[0.923159658908844]</td>\n",
       "    </tr>\n",
       "    <tr>\n",
       "      <th>4</th>\n",
       "      <td>TESTIMG/DSCN0850.JPG</td>\n",
       "      <td>10</td>\n",
       "      <td>[0.9114805459976196]</td>\n",
       "    </tr>\n",
       "    <tr>\n",
       "      <th>5</th>\n",
       "      <td>TESTIMG/DSCN0851.JPG</td>\n",
       "      <td>10</td>\n",
       "      <td>[0.9293253421783447]</td>\n",
       "    </tr>\n",
       "    <tr>\n",
       "      <th>6</th>\n",
       "      <td>TESTIMG/DSCN0854.JPG</td>\n",
       "      <td>10</td>\n",
       "      <td>[0.9396568536758423]</td>\n",
       "    </tr>\n",
       "    <tr>\n",
       "      <th>7</th>\n",
       "      <td>TESTIMG/DSCN0855.JPG</td>\n",
       "      <td>10</td>\n",
       "      <td>[0.9477813243865967]</td>\n",
       "    </tr>\n",
       "    <tr>\n",
       "      <th>8</th>\n",
       "      <td>TESTIMG/DSCN0856.JPG</td>\n",
       "      <td>10</td>\n",
       "      <td>[0.9506983757019043]</td>\n",
       "    </tr>\n",
       "    <tr>\n",
       "      <th>9</th>\n",
       "      <td>TESTIMG/DSCN0857.JPG</td>\n",
       "      <td>10</td>\n",
       "      <td>[0.9510011672973633]</td>\n",
       "    </tr>\n",
       "    <tr>\n",
       "      <th>10</th>\n",
       "      <td>TESTIMG/DSCN0858.JPG</td>\n",
       "      <td>10</td>\n",
       "      <td>[0.9493927359580994]</td>\n",
       "    </tr>\n",
       "    <tr>\n",
       "      <th>11</th>\n",
       "      <td>TESTIMG/DSCN0859.JPG</td>\n",
       "      <td>10</td>\n",
       "      <td>[0.9524440169334412]</td>\n",
       "    </tr>\n",
       "    <tr>\n",
       "      <th>12</th>\n",
       "      <td>TESTIMG/DSCN5007.JPG</td>\n",
       "      <td>3, 6, 9, 5, 1, 10, 4, 0, 7, 8, 2</td>\n",
       "      <td>[0.9755404591560364, 0.967642068862915, 0.9654...</td>\n",
       "    </tr>\n",
       "  </tbody>\n",
       "</table>\n",
       "</div>"
      ],
      "text/plain": [
       "                   image                           classes  \\\n",
       "0   TESTIMG/DSCN0846.JPG                                10   \n",
       "1   TESTIMG/DSCN0847.JPG                                10   \n",
       "2   TESTIMG/DSCN0848.JPG                                10   \n",
       "3   TESTIMG/DSCN0849.JPG                                10   \n",
       "4   TESTIMG/DSCN0850.JPG                                10   \n",
       "5   TESTIMG/DSCN0851.JPG                                10   \n",
       "6   TESTIMG/DSCN0854.JPG                                10   \n",
       "7   TESTIMG/DSCN0855.JPG                                10   \n",
       "8   TESTIMG/DSCN0856.JPG                                10   \n",
       "9   TESTIMG/DSCN0857.JPG                                10   \n",
       "10  TESTIMG/DSCN0858.JPG                                10   \n",
       "11  TESTIMG/DSCN0859.JPG                                10   \n",
       "12  TESTIMG/DSCN5007.JPG  3, 6, 9, 5, 1, 10, 4, 0, 7, 8, 2   \n",
       "\n",
       "                                               scores  \n",
       "0                                [0.9207518100738525]  \n",
       "1                                 [0.928490400314331]  \n",
       "2                                [0.9269101023674011]  \n",
       "3                                 [0.923159658908844]  \n",
       "4                                [0.9114805459976196]  \n",
       "5                                [0.9293253421783447]  \n",
       "6                                [0.9396568536758423]  \n",
       "7                                [0.9477813243865967]  \n",
       "8                                [0.9506983757019043]  \n",
       "9                                [0.9510011672973633]  \n",
       "10                               [0.9493927359580994]  \n",
       "11                               [0.9524440169334412]  \n",
       "12  [0.9755404591560364, 0.967642068862915, 0.9654...  "
      ]
     },
     "execution_count": 11,
     "metadata": {},
     "output_type": "execute_result"
    }
   ],
   "source": [
    "df"
   ]
  },
  {
   "cell_type": "code",
   "execution_count": null,
   "id": "aedf310d",
   "metadata": {},
   "outputs": [],
   "source": []
  }
 ],
 "metadata": {
  "kernelspec": {
   "display_name": "main",
   "language": "python",
   "name": "python3"
  },
  "language_info": {
   "codemirror_mode": {
    "name": "ipython",
    "version": 3
   },
   "file_extension": ".py",
   "mimetype": "text/x-python",
   "name": "python",
   "nbconvert_exporter": "python",
   "pygments_lexer": "ipython3",
   "version": "3.10.18"
  }
 },
 "nbformat": 4,
 "nbformat_minor": 5
}
